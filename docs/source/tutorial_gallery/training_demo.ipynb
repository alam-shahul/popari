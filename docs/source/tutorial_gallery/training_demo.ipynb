{
 "cells": [
  {
   "cell_type": "markdown",
   "id": "b2011e77",
   "metadata": {},
   "source": [
    "# Training Demo"
   ]
  },
  {
   "cell_type": "markdown",
   "id": "51153d85",
   "metadata": {},
   "source": [
    "Here we demonstrate how to train Popari downloading and preprocessing a multisample spatial transcriptomics dataset for analysis with Popari. In particular, we will be working with the **Alzheimer's Disease (AD)** dataset from the \"Preprocessing Demo\" notebook."
   ]
  },
  {
   "cell_type": "code",
   "execution_count": 1,
   "id": "dfed1c4f",
   "metadata": {
    "execution": {
     "iopub.execute_input": "2024-10-15T04:37:12.600631Z",
     "iopub.status.busy": "2024-10-15T04:37:12.600208Z",
     "iopub.status.idle": "2024-10-15T04:37:12.610131Z",
     "shell.execute_reply": "2024-10-15T04:37:12.608984Z",
     "shell.execute_reply.started": "2024-10-15T04:37:12.600594Z"
    }
   },
   "outputs": [],
   "source": [
    "# Disable warnings for prettier notebook\n",
    "import warnings\n",
    "warnings.filterwarnings(\"ignore\")"
   ]
  },
  {
   "cell_type": "code",
   "execution_count": 2,
   "id": "c60399f0",
   "metadata": {
    "execution": {
     "iopub.execute_input": "2024-10-15T04:37:12.828216Z",
     "iopub.status.busy": "2024-10-15T04:37:12.827877Z",
     "iopub.status.idle": "2024-10-15T04:37:26.209616Z",
     "shell.execute_reply": "2024-10-15T04:37:26.209129Z",
     "shell.execute_reply.started": "2024-10-15T04:37:12.828184Z"
    }
   },
   "outputs": [],
   "source": [
    "from pathlib import Path\n",
    "from tqdm.auto import trange\n",
    "\n",
    "import torch\n",
    "\n",
    "import popari\n",
    "from popari.model import Popari\n",
    "from popari import pl, tl\n",
    "from popari.train import TrainParameters, Trainer"
   ]
  },
  {
   "cell_type": "code",
   "execution_count": 3,
   "id": "13ce67d7",
   "metadata": {
    "execution": {
     "iopub.execute_input": "2024-10-15T04:37:26.212408Z",
     "iopub.status.busy": "2024-10-15T04:37:26.211385Z",
     "iopub.status.idle": "2024-10-15T04:37:26.214898Z",
     "shell.execute_reply": "2024-10-15T04:37:26.214424Z",
     "shell.execute_reply.started": "2024-10-15T04:37:26.212388Z"
    }
   },
   "outputs": [],
   "source": [
    "data_directory = Path(\"/path/to/directory/\")"
   ]
  },
  {
   "cell_type": "code",
   "execution_count": 4,
   "id": "69338536",
   "metadata": {
    "execution": {
     "iopub.execute_input": "2024-10-15T04:37:26.216921Z",
     "iopub.status.busy": "2024-10-15T04:37:26.216156Z",
     "iopub.status.idle": "2024-10-15T04:37:26.219409Z",
     "shell.execute_reply": "2024-10-15T04:37:26.218920Z",
     "shell.execute_reply.started": "2024-10-15T04:37:26.216904Z"
    }
   },
   "outputs": [],
   "source": [
    "data_directory = Path(\"/work/magroup/shahula/spatiotemporal_transcriptomics_integration/data/STARmapPlus/SCP1375/\")"
   ]
  },
  {
   "cell_type": "code",
   "execution_count": 5,
   "id": "047a358d-7294-49d7-8c3c-f7d49440bace",
   "metadata": {
    "execution": {
     "iopub.execute_input": "2024-10-13T23:04:36.460746Z",
     "iopub.status.busy": "2024-10-13T23:04:36.460497Z",
     "iopub.status.idle": "2024-10-13T23:04:36.463336Z",
     "shell.execute_reply": "2024-10-13T23:04:36.462836Z",
     "shell.execute_reply.started": "2024-10-13T23:04:36.460731Z"
    }
   },
   "outputs": [],
   "source": [
    "model_parameters = {\n",
    "    'K': 15,\n",
    "    'dataset_path': data_directory / f\"preprocessed_dataset.h5ad\",\n",
    "    'lambda_Sigma_x_inv': 1e-4,\n",
    "    'lambda_Sigma_bar': 1e-4,\n",
    "    'initial_context': {\n",
    "        'device': 'cuda:0',\n",
    "        'dtype': torch.float64\n",
    "    },\n",
    "    'torch_context': {\n",
    "        'device': 'cuda:0',\n",
    "        'dtype': torch.float64\n",
    "    },\n",
    "    'verbose': 0,\n",
    "    'spatial_affinity_mode': 'differential lookup',\n",
    "}"
   ]
  },
  {
   "cell_type": "code",
   "execution_count": 6,
   "id": "36d06b6d",
   "metadata": {
    "execution": {
     "iopub.execute_input": "2024-10-13T23:04:36.464285Z",
     "iopub.status.busy": "2024-10-13T23:04:36.463968Z",
     "iopub.status.idle": "2024-10-13T23:07:50.035909Z",
     "shell.execute_reply": "2024-10-13T23:07:50.035328Z",
     "shell.execute_reply.started": "2024-10-13T23:04:36.464269Z"
    }
   },
   "outputs": [],
   "source": [
    "popari_example = Popari(**model_parameters)"
   ]
  },
  {
   "cell_type": "markdown",
   "id": "b69df974",
   "metadata": {},
   "source": [
    "## Training Loop"
   ]
  },
  {
   "cell_type": "code",
   "execution_count": 8,
   "id": "b8d47503-5494-4bcd-8c7c-bfb60788be4b",
   "metadata": {
    "execution": {
     "iopub.execute_input": "2024-10-13T23:08:02.193566Z",
     "iopub.status.busy": "2024-10-13T23:08:02.193312Z",
     "iopub.status.idle": "2024-10-13T23:08:02.197041Z",
     "shell.execute_reply": "2024-10-13T23:08:02.196553Z",
     "shell.execute_reply.started": "2024-10-13T23:08:02.193546Z"
    }
   },
   "outputs": [],
   "source": [
    "train_parameters = TrainParameters(\n",
    "    nmf_iterations=10,\n",
    "    iterations=200,\n",
    "    savepath=data_directory / \"results.h5ad\",\n",
    ")"
   ]
  },
  {
   "cell_type": "code",
   "execution_count": 9,
   "id": "7fd66b1b-de84-4c79-a930-97ff4eb29467",
   "metadata": {
    "execution": {
     "iopub.execute_input": "2024-10-13T23:08:04.324303Z",
     "iopub.status.busy": "2024-10-13T23:08:04.324073Z",
     "iopub.status.idle": "2024-10-13T23:08:04.327766Z",
     "shell.execute_reply": "2024-10-13T23:08:04.327338Z",
     "shell.execute_reply.started": "2024-10-13T23:08:04.324286Z"
    }
   },
   "outputs": [],
   "source": [
    "trainer = Trainer(\n",
    "    parameters=train_parameters,\n",
    "    model=popari_example,\n",
    "    verbose=1,\n",
    ")"
   ]
  },
  {
   "cell_type": "markdown",
   "id": "d3304ad7-db90-4ec4-8be8-9fbd6b8f136d",
   "metadata": {},
   "source": [
    "Below, we train Popari for `200` iterations; this should take ~30 minutes on a standard GPU."
   ]
  },
  {
   "cell_type": "code",
   "execution_count": 10,
   "id": "15b51edf-b015-473b-9210-8f0525a5d180",
   "metadata": {
    "execution": {
     "iopub.execute_input": "2024-10-13T23:08:07.569733Z",
     "iopub.status.busy": "2024-10-13T23:08:07.569509Z",
     "iopub.status.idle": "2024-10-13T23:43:00.180638Z",
     "shell.execute_reply": "2024-10-13T23:43:00.180151Z",
     "shell.execute_reply.started": "2024-10-13T23:08:07.569716Z"
    }
   },
   "outputs": [
    {
     "data": {
      "application/vnd.jupyter.widget-view+json": {
       "model_id": "3187b5b7fddb49be9426047dad1c40ba",
       "version_major": 2,
       "version_minor": 0
      },
      "text/plain": [
       "  0%|          | 0/10 [00:00<?, ?it/s]"
      ]
     },
     "metadata": {},
     "output_type": "display_data"
    },
    {
     "data": {
      "application/vnd.jupyter.widget-view+json": {
       "model_id": "8263fdf58a6e45e0898470b2480f553e",
       "version_major": 2,
       "version_minor": 0
      },
      "text/plain": [
       "  0%|          | 0/200 [00:00<?, ?it/s]"
      ]
     },
     "metadata": {},
     "output_type": "display_data"
    }
   ],
   "source": [
    "trainer.train()"
   ]
  },
  {
   "cell_type": "markdown",
   "id": "acb96dd1",
   "metadata": {},
   "source": [
    "## Hierarchical Training"
   ]
  },
  {
   "cell_type": "markdown",
   "id": "ad888fca",
   "metadata": {},
   "source": [
    "Using hierarchical mode, we can train Popari more robustly using a lower resolution view of the original spatial transcriptomics data. We can then \"superresolve\" the embeddings at the higher resolution to regain a fine-grained view."
   ]
  },
  {
   "cell_type": "code",
   "execution_count": 5,
   "id": "03fc46b7-6895-4ca3-bf7f-e726abc09686",
   "metadata": {
    "execution": {
     "iopub.execute_input": "2024-10-15T04:37:26.221666Z",
     "iopub.status.busy": "2024-10-15T04:37:26.220913Z",
     "iopub.status.idle": "2024-10-15T04:37:26.224658Z",
     "shell.execute_reply": "2024-10-15T04:37:26.224147Z",
     "shell.execute_reply.started": "2024-10-15T04:37:26.221649Z"
    }
   },
   "outputs": [],
   "source": [
    "hierachical_parameters = {\n",
    "    'K': 15,\n",
    "    'dataset_path': data_directory / f\"preprocessed_dataset.h5ad\",\n",
    "    'lambda_Sigma_x_inv': 1e-4,\n",
    "    'lambda_Sigma_bar': 1e-4,\n",
    "    'initial_context': {\n",
    "        'device': 'cuda:0',\n",
    "        'dtype': torch.float64\n",
    "    },\n",
    "    'torch_context': {\n",
    "        'device': 'cuda:0',\n",
    "        'dtype': torch.float64\n",
    "    },\n",
    "    'verbose': 0,\n",
    "    'spatial_affinity_mode': 'differential lookup',\n",
    "    'downsampling_method': 'partition',\n",
    "    'hierarchical_levels': 2,\n",
    "    'superresolution_lr': 1e-1,\n",
    "}"
   ]
  },
  {
   "cell_type": "code",
   "execution_count": 8,
   "id": "be5742b7",
   "metadata": {
    "execution": {
     "iopub.execute_input": "2024-10-15T04:37:36.608629Z",
     "iopub.status.busy": "2024-10-15T04:37:36.608192Z",
     "iopub.status.idle": "2024-10-15T04:38:04.365785Z",
     "shell.execute_reply": "2024-10-15T04:38:04.365225Z",
     "shell.execute_reply.started": "2024-10-15T04:37:36.608593Z"
    }
   },
   "outputs": [
    {
     "name": "stdout",
     "output_type": "stream",
     "text": [
      "[2024/10/15 00:37:39]\t Initializing hierarchy level 1\n",
      "[2024/10/15 00:37:40]\t Downsized dataset from 8186 to 1637 spots.\n",
      "[2024/10/15 00:37:42]\t Downsized dataset from 10372 to 2074 spots.\n"
     ]
    }
   ],
   "source": [
    "K = 15\n",
    "dataset_path = data_directory / f\"preprocessed_dataset.h5ad\"\n",
    "context = {\"device\": \"cuda:0\", \"dtype\": torch.float64}\n",
    "hierarchical_levels = 2\n",
    "superresolution_lr = 1e-1\n",
    "\n",
    "hierarchical_example = Popari(**hierachical_parameters)"
   ]
  },
  {
   "cell_type": "code",
   "execution_count": 9,
   "id": "c812ab89-d36c-4732-8d4a-38b4cb73ab43",
   "metadata": {
    "execution": {
     "iopub.execute_input": "2024-10-15T04:38:04.368265Z",
     "iopub.status.busy": "2024-10-15T04:38:04.367605Z",
     "iopub.status.idle": "2024-10-15T04:38:04.371023Z",
     "shell.execute_reply": "2024-10-15T04:38:04.370593Z",
     "shell.execute_reply.started": "2024-10-15T04:38:04.368245Z"
    }
   },
   "outputs": [],
   "source": [
    "hierarchical_train_parameters = TrainParameters(\n",
    "    nmf_iterations=10,\n",
    "    iterations=200,\n",
    "    savepath=data_directory / \"hierarchical_results.h5ad\",\n",
    ")"
   ]
  },
  {
   "cell_type": "code",
   "execution_count": 10,
   "id": "67e7608e-fe63-48cd-ac5d-2047a9789f89",
   "metadata": {
    "execution": {
     "iopub.execute_input": "2024-10-15T04:38:04.373119Z",
     "iopub.status.busy": "2024-10-15T04:38:04.372309Z",
     "iopub.status.idle": "2024-10-15T04:38:04.375890Z",
     "shell.execute_reply": "2024-10-15T04:38:04.375368Z",
     "shell.execute_reply.started": "2024-10-15T04:38:04.373103Z"
    }
   },
   "outputs": [],
   "source": [
    "hierarchical_trainer = Trainer(\n",
    "    parameters=hierarchical_train_parameters,\n",
    "    model=hierarchical_example,\n",
    "    verbose=True,\n",
    ")"
   ]
  },
  {
   "cell_type": "code",
   "execution_count": 11,
   "id": "31f3646a-2486-4539-875f-945d15f06b03",
   "metadata": {
    "execution": {
     "iopub.execute_input": "2024-10-15T04:38:04.378155Z",
     "iopub.status.busy": "2024-10-15T04:38:04.377520Z",
     "iopub.status.idle": "2024-10-15T04:57:19.231992Z",
     "shell.execute_reply": "2024-10-15T04:57:19.231331Z",
     "shell.execute_reply.started": "2024-10-15T04:38:04.378139Z"
    },
    "scrolled": true
   },
   "outputs": [
    {
     "data": {
      "application/vnd.jupyter.widget-view+json": {
       "model_id": "2a2b8617883947f6b9823761e2be9b72",
       "version_major": 2,
       "version_minor": 0
      },
      "text/plain": [
       "  0%|          | 0/10 [00:00<?, ?it/s]"
      ]
     },
     "metadata": {},
     "output_type": "display_data"
    },
    {
     "data": {
      "application/vnd.jupyter.widget-view+json": {
       "model_id": "e9afbcb1f3dd4d35aa0eb6f3fc5eace5",
       "version_major": 2,
       "version_minor": 0
      },
      "text/plain": [
       "  0%|          | 0/200 [00:00<?, ?it/s]"
      ]
     },
     "metadata": {},
     "output_type": "display_data"
    }
   ],
   "source": [
    "hierarchical_trainer.train()"
   ]
  },
  {
   "cell_type": "markdown",
   "id": "46959dd2-cc71-42ec-8c97-5dd1d159062b",
   "metadata": {},
   "source": [
    "The optimization for the hierarchical trainer is done at the lowest resolution (`level = model.hierarchical_levels - 1`). In order to recover spatially-informed embeddings `X` for the higher resolutions, we provide a superresolution subroutine that can be run after the main training loop. "
   ]
  },
  {
   "cell_type": "code",
   "execution_count": 12,
   "id": "ff86b257-6b30-49a9-86af-4ed38b399910",
   "metadata": {
    "execution": {
     "iopub.execute_input": "2024-10-15T04:57:19.234296Z",
     "iopub.status.busy": "2024-10-15T04:57:19.233607Z",
     "iopub.status.idle": "2024-10-15T04:57:46.437392Z",
     "shell.execute_reply": "2024-10-15T04:57:46.436948Z",
     "shell.execute_reply.started": "2024-10-15T04:57:19.234277Z"
    }
   },
   "outputs": [],
   "source": [
    "hierarchical_trainer.superresolve(n_epochs=10000, tol=1e-6)"
   ]
  },
  {
   "cell_type": "markdown",
   "id": "c48b82ca",
   "metadata": {},
   "source": [
    "### Save results to disk"
   ]
  },
  {
   "cell_type": "code",
   "execution_count": 1,
   "id": "aebccfc2",
   "metadata": {
    "execution": {
     "iopub.execute_input": "2024-10-15T15:19:56.046394Z",
     "iopub.status.busy": "2024-10-15T15:19:56.046268Z",
     "iopub.status.idle": "2024-10-15T15:19:56.221940Z",
     "shell.execute_reply": "2024-10-15T15:19:56.221228Z",
     "shell.execute_reply.started": "2024-10-15T15:19:56.046380Z"
    }
   },
   "outputs": [
    {
     "ename": "NameError",
     "evalue": "name 'hierarchical_example' is not defined",
     "output_type": "error",
     "traceback": [
      "\u001b[0;31m---------------------------------------------------------------------------\u001b[0m",
      "\u001b[0;31mNameError\u001b[0m                                 Traceback (most recent call last)",
      "Cell \u001b[0;32mIn[1], line 1\u001b[0m\n\u001b[0;32m----> 1\u001b[0m \u001b[43mhierarchical_example\u001b[49m\u001b[38;5;241m.\u001b[39msave_results(\u001b[38;5;241m3\u001b[39m, ignore_raw_data\u001b[38;5;241m=\u001b[39m\u001b[38;5;28;01mFalse\u001b[39;00m)\n",
      "\u001b[0;31mNameError\u001b[0m: name 'hierarchical_example' is not defined"
     ]
    }
   ],
   "source": [
    "hierarchical_example.save_results(data_directory / f\"hierarchical_results\", ignore_raw_data=False)"
   ]
  },
  {
   "cell_type": "markdown",
   "id": "743192a2",
   "metadata": {},
   "source": [
    "### Load a pretrained model"
   ]
  },
  {
   "cell_type": "code",
   "execution_count": 20,
   "id": "86e28e02",
   "metadata": {
    "execution": {
     "iopub.execute_input": "2024-10-13T19:53:52.554051Z",
     "iopub.status.busy": "2024-10-13T19:53:52.553284Z",
     "iopub.status.idle": "2024-10-13T19:53:52.562350Z",
     "shell.execute_reply": "2024-10-13T19:53:52.560333Z",
     "shell.execute_reply.started": "2024-10-13T19:53:52.553969Z"
    }
   },
   "outputs": [],
   "source": [
    "from popari.model import load_trained_model"
   ]
  },
  {
   "cell_type": "code",
   "execution_count": 21,
   "id": "79f77bfe",
   "metadata": {
    "execution": {
     "iopub.execute_input": "2024-10-13T19:53:53.763352Z",
     "iopub.status.busy": "2024-10-13T19:53:53.762873Z",
     "iopub.status.idle": "2024-10-13T19:53:59.505710Z",
     "shell.execute_reply": "2024-10-13T19:53:59.504989Z",
     "shell.execute_reply.started": "2024-10-13T19:53:53.763309Z"
    }
   },
   "outputs": [
    {
     "name": "stdout",
     "output_type": "stream",
     "text": [
      "[2024/10/13 15:53:55]\t Reloading level 0\n",
      "[2024/10/13 15:53:55]\t Reloading level 1\n"
     ]
    }
   ],
   "source": [
    "reloaded_model = load_trained_model(data_directory / f\"hierarchical_results\")"
   ]
  }
 ],
 "metadata": {
  "kernelspec": {
   "display_name": "Python 3 (ipykernel)",
   "language": "python",
   "name": "python3"
  },
  "language_info": {
   "codemirror_mode": {
    "name": "ipython",
    "version": 3
   },
   "file_extension": ".py",
   "mimetype": "text/x-python",
   "name": "python",
   "nbconvert_exporter": "python",
   "pygments_lexer": "ipython3",
   "version": "3.10.15"
  }
 },
 "nbformat": 4,
 "nbformat_minor": 5
}
