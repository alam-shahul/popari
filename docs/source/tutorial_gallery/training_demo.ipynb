{
 "cells": [
  {
   "cell_type": "markdown",
   "id": "b2011e77",
   "metadata": {},
   "source": [
    "# Training Demo"
   ]
  },
  {
   "cell_type": "markdown",
   "id": "51153d85",
   "metadata": {},
   "source": [
    "Here we demonstrate how to train Popari downloading and preprocessing a multisample spatial transcriptomics dataset for analysis with Popari. In particular, we will be working with the **Alzheimer's Disease (AD)** dataset from the \"Preprocessing Demo\" notebook."
   ]
  },
  {
   "cell_type": "code",
   "execution_count": 1,
   "id": "dfed1c4f",
   "metadata": {},
   "outputs": [],
   "source": [
    "# Disable warnings for prettier notebook\n",
    "import warnings\n",
    "warnings.filterwarnings(\"ignore\")"
   ]
  },
  {
   "cell_type": "code",
   "execution_count": 2,
   "id": "c60399f0",
   "metadata": {},
   "outputs": [],
   "source": [
    "from pathlib import Path\n",
    "from tqdm.auto import trange\n",
    "\n",
    "import torch\n",
    "\n",
    "import popari\n",
    "from popari.model import Popari\n",
    "from popari import pl, tl"
   ]
  },
  {
   "cell_type": "code",
   "execution_count": 3,
   "id": "13ce67d7",
   "metadata": {},
   "outputs": [],
   "source": [
    "data_directory = Path(\"/path/to/directory/\")"
   ]
  },
  {
   "cell_type": "code",
   "execution_count": 4,
   "id": "69338536",
   "metadata": {},
   "outputs": [],
   "source": [
    "data_directory = Path(\"/work/magroup/shahula/spatiotemporal_transcriptomics_integration/data/STARmapPlus/SCP1375/\")"
   ]
  },
  {
   "cell_type": "code",
   "execution_count": 5,
   "id": "36d06b6d",
   "metadata": {},
   "outputs": [],
   "source": [
    "K = 15\n",
    "dataset_path = data_directory / f\"preprocessed_dataset.h5ad\"\n",
    "context = {\"device\": \"cuda:1\", \"dtype\": torch.float64}\n",
    "\n",
    "popari_example = Popari(\n",
    "    K=K,\n",
    "    dataset_path=dataset_path,\n",
    "    torch_context=context,\n",
    "    initial_context=context,\n",
    "    verbose=0\n",
    ")"
   ]
  },
  {
   "cell_type": "markdown",
   "id": "b69df974",
   "metadata": {},
   "source": [
    "## Pretraining"
   ]
  },
  {
   "cell_type": "code",
   "execution_count": 6,
   "id": "4d61ae4a",
   "metadata": {},
   "outputs": [
    {
     "data": {
      "application/vnd.jupyter.widget-view+json": {
       "model_id": "69c0e4aedc5c4d0ca29eabc49c67712e",
       "version_major": 2,
       "version_minor": 0
      },
      "text/plain": [
       "  0%|          | 0/10 [00:00<?, ?it/s]"
      ]
     },
     "metadata": {},
     "output_type": "display_data"
    }
   ],
   "source": [
    "# Initialization with NMF\n",
    "progress_bar = trange(10, leave=True)                                                                                                                                                                               \n",
    "for preiteration in progress_bar:                                                             \n",
    "    popari_example.estimate_parameters(update_spatial_affinities=False)\n",
    "    popari_example.estimate_weights(use_neighbors=False)"
   ]
  },
  {
   "cell_type": "code",
   "execution_count": 7,
   "id": "025f19c4",
   "metadata": {},
   "outputs": [],
   "source": [
    "# Reinitialize spatial affinities\n",
    "popari_example.parameter_optimizer.reinitialize_spatial_affinities()"
   ]
  },
  {
   "cell_type": "code",
   "execution_count": 8,
   "id": "3cf0c57d",
   "metadata": {},
   "outputs": [
    {
     "data": {
      "application/vnd.jupyter.widget-view+json": {
       "model_id": "46986895e6ff4e92926245ca0f432df8",
       "version_major": 2,
       "version_minor": 0
      },
      "text/plain": [
       "  0%|          | 0/50 [00:00<?, ?it/s]"
      ]
     },
     "metadata": {},
     "output_type": "display_data"
    }
   ],
   "source": [
    "# Initialization with SpiceMix\n",
    "progress_bar = trange(50, leave=True)                                                                                                                                                                               \n",
    "for iteration in progress_bar:\n",
    "    popari_example.estimate_parameters()\n",
    "    popari_example.estimate_weights()"
   ]
  },
  {
   "cell_type": "code",
   "execution_count": 9,
   "id": "e2f84f67",
   "metadata": {},
   "outputs": [],
   "source": [
    "from popari.model import from_pretrained\n",
    "\n",
    "popari_pretrained = from_pretrained(popari_example, popari_context=context, lambda_Sigma_bar=1e-4)"
   ]
  },
  {
   "cell_type": "code",
   "execution_count": 10,
   "id": "10855a24",
   "metadata": {},
   "outputs": [
    {
     "data": {
      "application/vnd.jupyter.widget-view+json": {
       "model_id": "58f66783998b4f13a445e89662298ba7",
       "version_major": 2,
       "version_minor": 0
      },
      "text/plain": [
       "  0%|          | 0/200 [00:00<?, ?it/s]"
      ]
     },
     "metadata": {},
     "output_type": "display_data"
    }
   ],
   "source": [
    "# Initialization with SpiceMix\n",
    "progress_bar = trange(200, leave=True)                                                                                                                                                                               \n",
    "for iteration in progress_bar:\n",
    "    popari_pretrained.estimate_parameters()\n",
    "    popari_pretrained.estimate_weights()"
   ]
  },
  {
   "cell_type": "markdown",
   "id": "acb96dd1",
   "metadata": {},
   "source": [
    "## Hierarchical Training"
   ]
  },
  {
   "cell_type": "markdown",
   "id": "ad888fca",
   "metadata": {},
   "source": [
    "Using hierarchical mode, we can train Popari more robustly using a lower resolution view of the original spatial transcriptomics data. We can then \"superresolve\" the embeddings at the higher resolution to regain a fine-grained view."
   ]
  },
  {
   "cell_type": "code",
   "execution_count": 12,
   "id": "be5742b7",
   "metadata": {},
   "outputs": [
    {
     "name": "stdout",
     "output_type": "stream",
     "text": [
      "[2023/06/22 17:56:43]\t Initializing hierarchy level 1\n",
      "[2023/06/22 17:56:44]\t Downsized dataset from 8186 to 1298 spots.\n",
      "[2023/06/22 17:56:44]\t Downsized dataset from 10372 to 1167 spots.\n"
     ]
    }
   ],
   "source": [
    "K = 15\n",
    "dataset_path = data_directory / f\"preprocessed_dataset.h5ad\"\n",
    "context = {\"device\": \"cuda:1\", \"dtype\": torch.float64}\n",
    "hierarchical_levels = 2\n",
    "superresolution_lr = 1e-1\n",
    "\n",
    "hierarchical_example = Popari(\n",
    "    K=K,\n",
    "    dataset_path=dataset_path,\n",
    "    torch_context=context,\n",
    "    initial_context=context,\n",
    "    hierarchical_levels=hierarchical_levels,\n",
    "    superresolution_lr=superresolution_lr,\n",
    "    verbose=0\n",
    ")"
   ]
  },
  {
   "cell_type": "code",
   "execution_count": 13,
   "id": "0a8a1641",
   "metadata": {
    "scrolled": true
   },
   "outputs": [
    {
     "data": {
      "application/vnd.jupyter.widget-view+json": {
       "model_id": "d9d1a248277a4c6c923bb170d08e653c",
       "version_major": 2,
       "version_minor": 0
      },
      "text/plain": [
       "  0%|          | 0/10 [00:00<?, ?it/s]"
      ]
     },
     "metadata": {},
     "output_type": "display_data"
    }
   ],
   "source": [
    "# Initialization with NMF\n",
    "progress_bar = trange(10, leave=True)                                                                                                                                                                               \n",
    "for preiteration in progress_bar:                                                             \n",
    "    hierarchical_example.estimate_parameters(update_spatial_affinities=False)\n",
    "    hierarchical_example.estimate_weights(use_neighbors=False)"
   ]
  },
  {
   "cell_type": "code",
   "execution_count": 14,
   "id": "a09540ca",
   "metadata": {},
   "outputs": [],
   "source": [
    "# Reinitialize spatial affinities\n",
    "hierarchical_example.parameter_optimizer.reinitialize_spatial_affinities()"
   ]
  },
  {
   "cell_type": "code",
   "execution_count": 15,
   "id": "6749b7d3",
   "metadata": {
    "scrolled": true
   },
   "outputs": [
    {
     "data": {
      "application/vnd.jupyter.widget-view+json": {
       "model_id": "f42147937c384f708bcb3f3f2c77707e",
       "version_major": 2,
       "version_minor": 0
      },
      "text/plain": [
       "  0%|          | 0/50 [00:00<?, ?it/s]"
      ]
     },
     "metadata": {},
     "output_type": "display_data"
    }
   ],
   "source": [
    "# Initialization with NMF\n",
    "progress_bar = trange(50, leave=True)                                                                                                                                                                               \n",
    "for iteration in progress_bar:                                                             \n",
    "    hierarchical_example.estimate_parameters()\n",
    "    hierarchical_example.estimate_weights()"
   ]
  },
  {
   "cell_type": "code",
   "execution_count": 16,
   "id": "a5469fd6",
   "metadata": {},
   "outputs": [],
   "source": [
    "hierarchical_example.superresolve(n_epochs=5000, tol=1e-6)"
   ]
  },
  {
   "cell_type": "markdown",
   "id": "c48b82ca",
   "metadata": {},
   "source": [
    "### Save results to disk"
   ]
  },
  {
   "cell_type": "code",
   "execution_count": 18,
   "id": "aebccfc2",
   "metadata": {},
   "outputs": [],
   "source": [
    "hierarchical_example.save_results(data_directory / f\"hierarchical_results.h5ad\")"
   ]
  },
  {
   "cell_type": "markdown",
   "id": "743192a2",
   "metadata": {},
   "source": [
    "### Load a pretrained model"
   ]
  },
  {
   "cell_type": "code",
   "execution_count": 19,
   "id": "86e28e02",
   "metadata": {},
   "outputs": [],
   "source": [
    "from popari.model import load_trained_model"
   ]
  },
  {
   "cell_type": "code",
   "execution_count": 20,
   "id": "79f77bfe",
   "metadata": {},
   "outputs": [],
   "source": [
    "reloaded_model = load_trained_model(data_directory / f\"hierarchical_results.h5ad\")"
   ]
  }
 ],
 "metadata": {
  "kernelspec": {
   "display_name": "Python 3 (ipykernel)",
   "language": "python",
   "name": "python3"
  },
  "language_info": {
   "codemirror_mode": {
    "name": "ipython",
    "version": 3
   },
   "file_extension": ".py",
   "mimetype": "text/x-python",
   "name": "python",
   "nbconvert_exporter": "python",
   "pygments_lexer": "ipython3",
   "version": "3.8.13"
  }
 },
 "nbformat": 4,
 "nbformat_minor": 5
}
