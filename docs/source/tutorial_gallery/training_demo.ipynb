{
 "cells": [
  {
   "cell_type": "markdown",
   "id": "b2011e77",
   "metadata": {},
   "source": [
    "# Training Demo"
   ]
  },
  {
   "cell_type": "markdown",
   "id": "51153d85",
   "metadata": {},
   "source": [
    "Here we demonstrate how to train Popari downloading and preprocessing a multisample spatial transcriptomics dataset for analysis with Popari. In particular, we will be working with the **Alzheimer's Disease (AD)** dataset from the \"Preprocessing Demo\" notebook."
   ]
  },
  {
   "cell_type": "code",
   "execution_count": 1,
   "id": "dfed1c4f",
   "metadata": {},
   "outputs": [],
   "source": [
    "# Disable warnings for prettier notebook\n",
    "import warnings\n",
    "warnings.filterwarnings(\"ignore\")"
   ]
  },
  {
   "cell_type": "code",
   "execution_count": 2,
   "id": "c60399f0",
   "metadata": {},
   "outputs": [],
   "source": [
    "from pathlib import Path\n",
    "\n",
    "import torch\n",
    "\n",
    "import popari\n",
    "from popari.model import Popari\n",
    "from popari import pl, tl"
   ]
  },
  {
   "cell_type": "code",
   "execution_count": 3,
   "id": "13ce67d7",
   "metadata": {},
   "outputs": [],
   "source": [
    "data_directory = Path(\"/path/to/directory/\")"
   ]
  },
  {
   "cell_type": "code",
   "execution_count": 6,
   "id": "69338536",
   "metadata": {},
   "outputs": [],
   "source": [
    "# data_directory = Path(\"/work/magroup/shahula/spatiotemporal_transcriptomics_integration/data/STARmapPlus/SCP1375/\")"
   ]
  },
  {
   "cell_type": "code",
   "execution_count": 7,
   "id": "36d06b6d",
   "metadata": {},
   "outputs": [
    {
     "name": "stdout",
     "output_type": "stream",
     "text": [
      "[2023/05/24 23:52:14]\t Initializing MetageneState\n",
      "[2023/05/24 23:52:14]\t Initializing SpatialAffinityState\n",
      "[2023/05/24 23:52:14]\t Initializing EmbeddingOptimizer\n",
      "[2023/05/24 23:52:14]\t Initializing EmbeddingState\n",
      "[2023/05/24 23:52:14]\t Initializing metagenes and hidden states\n",
      "Current number of clusters: 9\n",
      "Resolution: 1.0\n",
      "Current number of clusters: 31\n",
      "Resolution: 3.1622776601683795\n",
      "Current number of clusters: 16\n",
      "Resolution: 1.7782794100389228\n",
      "Current number of clusters: 12\n",
      "Resolution: 1.333521432163324\n",
      "Current number of clusters: 10\n",
      "Resolution: 1.1547819846894583\n"
     ]
    }
   ],
   "source": [
    "K = 10\n",
    "dataset_path = data_directory / f\"preprocessed_dataset.h5ad\"\n",
    "context = {\"device\": \"cuda:1\", \"dtype\": torch.float64}\n",
    "\n",
    "popari_example = Popari(\n",
    "    K=K,\n",
    "    dataset_path=dataset_path,\n",
    "    torch_context=context,\n",
    "    initial_context=context,\n",
    "    verbose=1\n",
    ")"
   ]
  },
  {
   "cell_type": "markdown",
   "id": "b69df974",
   "metadata": {},
   "source": [
    "## Pretraining"
   ]
  },
  {
   "cell_type": "code",
   "execution_count": 8,
   "id": "4d61ae4a",
   "metadata": {},
   "outputs": [
    {
     "name": "stdout",
     "output_type": "stream",
     "text": [
      "----- Preiteration 0 -----\n",
      "[2023/05/24 23:56:03]\t Updating metagenes\n"
     ]
    },
    {
     "data": {
      "application/vnd.jupyter.widget-view+json": {
       "model_id": "d207832438924ad8a63f4a738b3c0e9e",
       "version_major": 2,
       "version_minor": 0
      },
      "text/plain": [
       "Updating M:   0%|          | 0/10000 [00:00<?, ?it/s]"
      ]
     },
     "metadata": {},
     "output_type": "display_data"
    },
    {
     "name": "stdout",
     "output_type": "stream",
     "text": [
      "[2023/05/24 23:56:04]\t Updating sigma_yx\n",
      "[2023/05/24 23:56:04]\t Updating latent states\n"
     ]
    },
    {
     "data": {
      "application/vnd.jupyter.widget-view+json": {
       "model_id": "e975b4c8bdab4804814a16aaf27da19b",
       "version_major": 2,
       "version_minor": 0
      },
      "text/plain": [
       "  0%|          | 0/1000 [00:00<?, ?it/s]"
      ]
     },
     "metadata": {},
     "output_type": "display_data"
    },
    {
     "data": {
      "application/vnd.jupyter.widget-view+json": {
       "model_id": "ae7d6080581b48a0a42d7670aa110c3d",
       "version_major": 2,
       "version_minor": 0
      },
      "text/plain": [
       "  0%|          | 0/1000 [00:00<?, ?it/s]"
      ]
     },
     "metadata": {},
     "output_type": "display_data"
    },
    {
     "name": "stdout",
     "output_type": "stream",
     "text": [
      "----- Preiteration 1 -----\n",
      "[2023/05/24 23:56:06]\t Updating metagenes\n"
     ]
    },
    {
     "data": {
      "application/vnd.jupyter.widget-view+json": {
       "model_id": "517c5b8eccf8487bbabc41df009d9197",
       "version_major": 2,
       "version_minor": 0
      },
      "text/plain": [
       "Updating M:   0%|          | 0/10000 [00:00<?, ?it/s]"
      ]
     },
     "metadata": {},
     "output_type": "display_data"
    },
    {
     "name": "stdout",
     "output_type": "stream",
     "text": [
      "[2023/05/24 23:56:06]\t Updating sigma_yx\n",
      "[2023/05/24 23:56:06]\t Updating latent states\n"
     ]
    },
    {
     "data": {
      "application/vnd.jupyter.widget-view+json": {
       "model_id": "b3a192fa90814ecabe70b11cb2b6137e",
       "version_major": 2,
       "version_minor": 0
      },
      "text/plain": [
       "  0%|          | 0/1000 [00:00<?, ?it/s]"
      ]
     },
     "metadata": {},
     "output_type": "display_data"
    },
    {
     "data": {
      "application/vnd.jupyter.widget-view+json": {
       "model_id": "0b7f55a88ddd4bf0adb22f7bb77815c4",
       "version_major": 2,
       "version_minor": 0
      },
      "text/plain": [
       "  0%|          | 0/1000 [00:00<?, ?it/s]"
      ]
     },
     "metadata": {},
     "output_type": "display_data"
    },
    {
     "name": "stdout",
     "output_type": "stream",
     "text": [
      "----- Preiteration 2 -----\n",
      "[2023/05/24 23:56:08]\t Updating metagenes\n"
     ]
    },
    {
     "data": {
      "application/vnd.jupyter.widget-view+json": {
       "model_id": "b8aa7df0d3a14a41a9cf3aa221dea03c",
       "version_major": 2,
       "version_minor": 0
      },
      "text/plain": [
       "Updating M:   0%|          | 0/10000 [00:00<?, ?it/s]"
      ]
     },
     "metadata": {},
     "output_type": "display_data"
    },
    {
     "name": "stdout",
     "output_type": "stream",
     "text": [
      "[2023/05/24 23:56:08]\t Updating sigma_yx\n",
      "[2023/05/24 23:56:08]\t Updating latent states\n"
     ]
    },
    {
     "data": {
      "application/vnd.jupyter.widget-view+json": {
       "model_id": "b2c62744aabb41ee9119f5957e004cfe",
       "version_major": 2,
       "version_minor": 0
      },
      "text/plain": [
       "  0%|          | 0/1000 [00:00<?, ?it/s]"
      ]
     },
     "metadata": {},
     "output_type": "display_data"
    },
    {
     "data": {
      "application/vnd.jupyter.widget-view+json": {
       "model_id": "0717c708b10d4bc7a2895ddc79feb045",
       "version_major": 2,
       "version_minor": 0
      },
      "text/plain": [
       "  0%|          | 0/1000 [00:00<?, ?it/s]"
      ]
     },
     "metadata": {},
     "output_type": "display_data"
    },
    {
     "name": "stdout",
     "output_type": "stream",
     "text": [
      "----- Preiteration 3 -----\n",
      "[2023/05/24 23:56:10]\t Updating metagenes\n"
     ]
    },
    {
     "data": {
      "application/vnd.jupyter.widget-view+json": {
       "model_id": "caefd23dff604f7d89ed030a279c931a",
       "version_major": 2,
       "version_minor": 0
      },
      "text/plain": [
       "Updating M:   0%|          | 0/10000 [00:00<?, ?it/s]"
      ]
     },
     "metadata": {},
     "output_type": "display_data"
    },
    {
     "name": "stdout",
     "output_type": "stream",
     "text": [
      "[2023/05/24 23:56:10]\t Updating sigma_yx\n",
      "[2023/05/24 23:56:10]\t Updating latent states\n"
     ]
    },
    {
     "data": {
      "application/vnd.jupyter.widget-view+json": {
       "model_id": "fa011ede10144962a698aef7e3ac019e",
       "version_major": 2,
       "version_minor": 0
      },
      "text/plain": [
       "  0%|          | 0/1000 [00:00<?, ?it/s]"
      ]
     },
     "metadata": {},
     "output_type": "display_data"
    },
    {
     "data": {
      "application/vnd.jupyter.widget-view+json": {
       "model_id": "58ab4c0cb79442b89f3317bcad59fdca",
       "version_major": 2,
       "version_minor": 0
      },
      "text/plain": [
       "  0%|          | 0/1000 [00:00<?, ?it/s]"
      ]
     },
     "metadata": {},
     "output_type": "display_data"
    },
    {
     "name": "stdout",
     "output_type": "stream",
     "text": [
      "----- Preiteration 4 -----\n",
      "[2023/05/24 23:56:12]\t Updating metagenes\n"
     ]
    },
    {
     "data": {
      "application/vnd.jupyter.widget-view+json": {
       "model_id": "dd5fd4c7170c40cc88bf7f75d9b66952",
       "version_major": 2,
       "version_minor": 0
      },
      "text/plain": [
       "Updating M:   0%|          | 0/10000 [00:00<?, ?it/s]"
      ]
     },
     "metadata": {},
     "output_type": "display_data"
    },
    {
     "name": "stdout",
     "output_type": "stream",
     "text": [
      "[2023/05/24 23:56:12]\t Updating sigma_yx\n",
      "[2023/05/24 23:56:12]\t Updating latent states\n"
     ]
    },
    {
     "data": {
      "application/vnd.jupyter.widget-view+json": {
       "model_id": "30410c28c851493a9d4c7bc0614f2b2b",
       "version_major": 2,
       "version_minor": 0
      },
      "text/plain": [
       "  0%|          | 0/1000 [00:00<?, ?it/s]"
      ]
     },
     "metadata": {},
     "output_type": "display_data"
    },
    {
     "data": {
      "application/vnd.jupyter.widget-view+json": {
       "model_id": "d32afe9106a146bdaeec02a47ba4ad26",
       "version_major": 2,
       "version_minor": 0
      },
      "text/plain": [
       "  0%|          | 0/1000 [00:00<?, ?it/s]"
      ]
     },
     "metadata": {},
     "output_type": "display_data"
    },
    {
     "name": "stdout",
     "output_type": "stream",
     "text": [
      "----- Preiteration 5 -----\n",
      "[2023/05/24 23:56:13]\t Updating metagenes\n"
     ]
    },
    {
     "data": {
      "application/vnd.jupyter.widget-view+json": {
       "model_id": "41b1e1ad706c403bb83298fdff55adef",
       "version_major": 2,
       "version_minor": 0
      },
      "text/plain": [
       "Updating M:   0%|          | 0/10000 [00:00<?, ?it/s]"
      ]
     },
     "metadata": {},
     "output_type": "display_data"
    },
    {
     "name": "stdout",
     "output_type": "stream",
     "text": [
      "[2023/05/24 23:56:13]\t Updating sigma_yx\n",
      "[2023/05/24 23:56:13]\t Updating latent states\n"
     ]
    },
    {
     "data": {
      "application/vnd.jupyter.widget-view+json": {
       "model_id": "c53b6cf4d63444f68c968e4be177c9bc",
       "version_major": 2,
       "version_minor": 0
      },
      "text/plain": [
       "  0%|          | 0/1000 [00:00<?, ?it/s]"
      ]
     },
     "metadata": {},
     "output_type": "display_data"
    },
    {
     "data": {
      "application/vnd.jupyter.widget-view+json": {
       "model_id": "be86cbc70a854127bf5bfb75df0cae01",
       "version_major": 2,
       "version_minor": 0
      },
      "text/plain": [
       "  0%|          | 0/1000 [00:00<?, ?it/s]"
      ]
     },
     "metadata": {},
     "output_type": "display_data"
    },
    {
     "name": "stdout",
     "output_type": "stream",
     "text": [
      "----- Preiteration 6 -----\n",
      "[2023/05/24 23:56:14]\t Updating metagenes\n"
     ]
    },
    {
     "data": {
      "application/vnd.jupyter.widget-view+json": {
       "model_id": "35608c052f8545999d08496c39e989b5",
       "version_major": 2,
       "version_minor": 0
      },
      "text/plain": [
       "Updating M:   0%|          | 0/10000 [00:00<?, ?it/s]"
      ]
     },
     "metadata": {},
     "output_type": "display_data"
    },
    {
     "name": "stdout",
     "output_type": "stream",
     "text": [
      "[2023/05/24 23:56:14]\t Updating sigma_yx\n",
      "[2023/05/24 23:56:14]\t Updating latent states\n"
     ]
    },
    {
     "data": {
      "application/vnd.jupyter.widget-view+json": {
       "model_id": "5f7c67e4d976460695d1f3a4d77aec23",
       "version_major": 2,
       "version_minor": 0
      },
      "text/plain": [
       "  0%|          | 0/1000 [00:00<?, ?it/s]"
      ]
     },
     "metadata": {},
     "output_type": "display_data"
    },
    {
     "data": {
      "application/vnd.jupyter.widget-view+json": {
       "model_id": "be22a586a81848bbb44a7bf003029501",
       "version_major": 2,
       "version_minor": 0
      },
      "text/plain": [
       "  0%|          | 0/1000 [00:00<?, ?it/s]"
      ]
     },
     "metadata": {},
     "output_type": "display_data"
    },
    {
     "name": "stdout",
     "output_type": "stream",
     "text": [
      "----- Preiteration 7 -----\n",
      "[2023/05/24 23:56:15]\t Updating metagenes\n"
     ]
    },
    {
     "data": {
      "application/vnd.jupyter.widget-view+json": {
       "model_id": "f5b0466657ea4a5f804574b026258163",
       "version_major": 2,
       "version_minor": 0
      },
      "text/plain": [
       "Updating M:   0%|          | 0/10000 [00:00<?, ?it/s]"
      ]
     },
     "metadata": {},
     "output_type": "display_data"
    },
    {
     "name": "stdout",
     "output_type": "stream",
     "text": [
      "[2023/05/24 23:56:15]\t Updating sigma_yx\n",
      "[2023/05/24 23:56:15]\t Updating latent states\n"
     ]
    },
    {
     "data": {
      "application/vnd.jupyter.widget-view+json": {
       "model_id": "29d4cabde47841d9a3a6f09d27200005",
       "version_major": 2,
       "version_minor": 0
      },
      "text/plain": [
       "  0%|          | 0/1000 [00:00<?, ?it/s]"
      ]
     },
     "metadata": {},
     "output_type": "display_data"
    },
    {
     "data": {
      "application/vnd.jupyter.widget-view+json": {
       "model_id": "b1c6061886fd4c31aa4f327e8e093dca",
       "version_major": 2,
       "version_minor": 0
      },
      "text/plain": [
       "  0%|          | 0/1000 [00:00<?, ?it/s]"
      ]
     },
     "metadata": {},
     "output_type": "display_data"
    },
    {
     "name": "stdout",
     "output_type": "stream",
     "text": [
      "----- Preiteration 8 -----\n",
      "[2023/05/24 23:56:15]\t Updating metagenes\n"
     ]
    },
    {
     "data": {
      "application/vnd.jupyter.widget-view+json": {
       "model_id": "2cf4fcdfab10485cac10593701ea4265",
       "version_major": 2,
       "version_minor": 0
      },
      "text/plain": [
       "Updating M:   0%|          | 0/10000 [00:00<?, ?it/s]"
      ]
     },
     "metadata": {},
     "output_type": "display_data"
    },
    {
     "name": "stdout",
     "output_type": "stream",
     "text": [
      "[2023/05/24 23:56:16]\t Updating sigma_yx\n",
      "[2023/05/24 23:56:16]\t Updating latent states\n"
     ]
    },
    {
     "data": {
      "application/vnd.jupyter.widget-view+json": {
       "model_id": "95960e44cd584413a996d3dbed9c2b29",
       "version_major": 2,
       "version_minor": 0
      },
      "text/plain": [
       "  0%|          | 0/1000 [00:00<?, ?it/s]"
      ]
     },
     "metadata": {},
     "output_type": "display_data"
    },
    {
     "data": {
      "application/vnd.jupyter.widget-view+json": {
       "model_id": "2cf5ba7383ab44979a1c203ef993109f",
       "version_major": 2,
       "version_minor": 0
      },
      "text/plain": [
       "  0%|          | 0/1000 [00:00<?, ?it/s]"
      ]
     },
     "metadata": {},
     "output_type": "display_data"
    },
    {
     "name": "stdout",
     "output_type": "stream",
     "text": [
      "----- Preiteration 9 -----\n",
      "[2023/05/24 23:56:16]\t Updating metagenes\n"
     ]
    },
    {
     "data": {
      "application/vnd.jupyter.widget-view+json": {
       "model_id": "1ac5d9073e484a05834a6ebfb466e02f",
       "version_major": 2,
       "version_minor": 0
      },
      "text/plain": [
       "Updating M:   0%|          | 0/10000 [00:00<?, ?it/s]"
      ]
     },
     "metadata": {},
     "output_type": "display_data"
    },
    {
     "name": "stdout",
     "output_type": "stream",
     "text": [
      "[2023/05/24 23:56:16]\t Updating sigma_yx\n",
      "[2023/05/24 23:56:16]\t Updating latent states\n"
     ]
    },
    {
     "data": {
      "application/vnd.jupyter.widget-view+json": {
       "model_id": "75546eaae5b34558a436c74071af74d6",
       "version_major": 2,
       "version_minor": 0
      },
      "text/plain": [
       "  0%|          | 0/1000 [00:00<?, ?it/s]"
      ]
     },
     "metadata": {},
     "output_type": "display_data"
    },
    {
     "data": {
      "application/vnd.jupyter.widget-view+json": {
       "model_id": "086aa7d5d7404b9f9535460170d15698",
       "version_major": 2,
       "version_minor": 0
      },
      "text/plain": [
       "  0%|          | 0/1000 [00:00<?, ?it/s]"
      ]
     },
     "metadata": {},
     "output_type": "display_data"
    }
   ],
   "source": [
    "# Initialization with NMF\n",
    "for preiteration in range(10):\n",
    "    print(f\"----- Preiteration {preiteration} -----\")\n",
    "    popari_example.estimate_parameters(update_spatial_affinities=False)\n",
    "    popari_example.estimate_weights(use_neighbors=False)"
   ]
  },
  {
   "cell_type": "code",
   "execution_count": 9,
   "id": "025f19c4",
   "metadata": {},
   "outputs": [],
   "source": [
    "# Reinitialize spatial affinities\n",
    "pretrained_embeddings = [popari_example.embedding_optimizer.embedding_state[dataset.name] for dataset in popari_example.datasets]\n",
    "popari_example.parameter_optimizer.spatial_affinity_state.initialize(pretrained_embeddings)"
   ]
  },
  {
   "cell_type": "markdown",
   "id": "acb96dd1",
   "metadata": {},
   "source": [
    "## Hierarchical Training"
   ]
  },
  {
   "cell_type": "markdown",
   "id": "ad888fca",
   "metadata": {},
   "source": [
    "Using hierarchical mode, we can train Popari more robustly using a lower resolution view of the original spatial transcriptomics data. We can then \"superresolve\" the embeddings at the higher resolution to regain a fine-grained view."
   ]
  },
  {
   "cell_type": "code",
   "execution_count": 16,
   "id": "be5742b7",
   "metadata": {},
   "outputs": [
    {
     "name": "stdout",
     "output_type": "stream",
     "text": [
      "[2023/05/25 00:04:02]\t Initializing MetageneState\n",
      "[2023/05/25 00:04:02]\t Initializing SpatialAffinityState\n",
      "[2023/05/25 00:04:02]\t Initializing EmbeddingOptimizer\n",
      "[2023/05/25 00:04:02]\t Initializing EmbeddingState\n",
      "[2023/05/25 00:04:02]\t Initializing metagenes and hidden states\n",
      "Current number of clusters: 9\n",
      "Resolution: 1.0\n",
      "Current number of clusters: 31\n",
      "Resolution: 3.1622776601683795\n",
      "Current number of clusters: 16\n",
      "Resolution: 1.7782794100389228\n",
      "Current number of clusters: 12\n",
      "Resolution: 1.333521432163324\n",
      "Current number of clusters: 10\n",
      "Resolution: 1.1547819846894583\n",
      "[2023/05/25 00:04:37]\t Initializing hierarchy level 1\n",
      "[2023/05/25 00:04:38]\t Downsized dataset from 8186 to 1298 spots.\n",
      "[2023/05/25 00:04:39]\t Downsized dataset from 10372 to 1167 spots.\n",
      "[2023/05/25 00:04:39]\t Initializing MetageneState\n",
      "[2023/05/25 00:04:39]\t Initializing SpatialAffinityState\n",
      "[2023/05/25 00:04:39]\t Initializing EmbeddingOptimizer\n",
      "[2023/05/25 00:04:39]\t Initializing EmbeddingState\n",
      "[2023/05/25 00:04:39]\t Initializing metagenes and hidden states\n",
      "Current number of clusters: 8\n",
      "Resolution: 1.0\n",
      "Current number of clusters: 25\n",
      "Resolution: 3.1622776601683795\n",
      "Current number of clusters: 15\n",
      "Resolution: 1.7782794100389228\n",
      "Current number of clusters: 13\n",
      "Resolution: 1.333521432163324\n",
      "Current number of clusters: 10\n",
      "Resolution: 1.1547819846894583\n"
     ]
    }
   ],
   "source": [
    "K = 10\n",
    "dataset_path = data_directory / f\"preprocessed_dataset.h5ad\"\n",
    "context = {\"device\": \"cuda:1\", \"dtype\": torch.float64}\n",
    "hierarchical_levels = 2\n",
    "superresolution_lr = 1e-1\n",
    "\n",
    "hierarchical_example = Popari(\n",
    "    K=K,\n",
    "    dataset_path=dataset_path,\n",
    "    torch_context=context,\n",
    "    initial_context=context,\n",
    "    hierarchical_levels=hierarchical_levels,\n",
    "    superresolution_lr=superresolution_lr,\n",
    "    verbose=1\n",
    ")"
   ]
  },
  {
   "cell_type": "code",
   "execution_count": 17,
   "id": "0a8a1641",
   "metadata": {
    "scrolled": true
   },
   "outputs": [
    {
     "name": "stdout",
     "output_type": "stream",
     "text": [
      "----- Preiteration 0 -----\n",
      "[2023/05/25 00:04:42]\t Updating metagenes\n"
     ]
    },
    {
     "data": {
      "application/vnd.jupyter.widget-view+json": {
       "model_id": "be0d386481694e13bbe912b7e658e0b8",
       "version_major": 2,
       "version_minor": 0
      },
      "text/plain": [
       "Updating M:   0%|          | 0/10000 [00:00<?, ?it/s]"
      ]
     },
     "metadata": {},
     "output_type": "display_data"
    },
    {
     "name": "stdout",
     "output_type": "stream",
     "text": [
      "[2023/05/25 00:04:42]\t Updating sigma_yx\n",
      "[2023/05/25 00:04:42]\t Updating latent states\n"
     ]
    },
    {
     "data": {
      "application/vnd.jupyter.widget-view+json": {
       "model_id": "067d09d0e0164268ad4a7df49b250477",
       "version_major": 2,
       "version_minor": 0
      },
      "text/plain": [
       "  0%|          | 0/1000 [00:00<?, ?it/s]"
      ]
     },
     "metadata": {},
     "output_type": "display_data"
    },
    {
     "data": {
      "application/vnd.jupyter.widget-view+json": {
       "model_id": "68945bd1d5ce4eacb562e67b8c482814",
       "version_major": 2,
       "version_minor": 0
      },
      "text/plain": [
       "  0%|          | 0/1000 [00:00<?, ?it/s]"
      ]
     },
     "metadata": {},
     "output_type": "display_data"
    },
    {
     "name": "stdout",
     "output_type": "stream",
     "text": [
      "----- Preiteration 1 -----\n",
      "[2023/05/25 00:04:44]\t Updating metagenes\n"
     ]
    },
    {
     "data": {
      "application/vnd.jupyter.widget-view+json": {
       "model_id": "21416be3084147e1a49041056d81e417",
       "version_major": 2,
       "version_minor": 0
      },
      "text/plain": [
       "Updating M:   0%|          | 0/10000 [00:00<?, ?it/s]"
      ]
     },
     "metadata": {},
     "output_type": "display_data"
    },
    {
     "name": "stdout",
     "output_type": "stream",
     "text": [
      "[2023/05/25 00:04:45]\t Updating sigma_yx\n",
      "[2023/05/25 00:04:45]\t Updating latent states\n"
     ]
    },
    {
     "data": {
      "application/vnd.jupyter.widget-view+json": {
       "model_id": "3bff541d13b84fa8aea42464b2917385",
       "version_major": 2,
       "version_minor": 0
      },
      "text/plain": [
       "  0%|          | 0/1000 [00:00<?, ?it/s]"
      ]
     },
     "metadata": {},
     "output_type": "display_data"
    },
    {
     "data": {
      "application/vnd.jupyter.widget-view+json": {
       "model_id": "8342d2da98124696b1a4c7ae1219b292",
       "version_major": 2,
       "version_minor": 0
      },
      "text/plain": [
       "  0%|          | 0/1000 [00:00<?, ?it/s]"
      ]
     },
     "metadata": {},
     "output_type": "display_data"
    },
    {
     "name": "stdout",
     "output_type": "stream",
     "text": [
      "----- Preiteration 2 -----\n",
      "[2023/05/25 00:04:46]\t Updating metagenes\n"
     ]
    },
    {
     "data": {
      "application/vnd.jupyter.widget-view+json": {
       "model_id": "a5b9b0020c694ceb887ebdf3cc0e4c9d",
       "version_major": 2,
       "version_minor": 0
      },
      "text/plain": [
       "Updating M:   0%|          | 0/10000 [00:00<?, ?it/s]"
      ]
     },
     "metadata": {},
     "output_type": "display_data"
    },
    {
     "name": "stdout",
     "output_type": "stream",
     "text": [
      "[2023/05/25 00:04:47]\t Updating sigma_yx\n",
      "[2023/05/25 00:04:47]\t Updating latent states\n"
     ]
    },
    {
     "data": {
      "application/vnd.jupyter.widget-view+json": {
       "model_id": "fe82d10ec7de476fb420f300afa4cce3",
       "version_major": 2,
       "version_minor": 0
      },
      "text/plain": [
       "  0%|          | 0/1000 [00:00<?, ?it/s]"
      ]
     },
     "metadata": {},
     "output_type": "display_data"
    },
    {
     "data": {
      "application/vnd.jupyter.widget-view+json": {
       "model_id": "4fba0e07ea084a53bb9527f62dc8a70a",
       "version_major": 2,
       "version_minor": 0
      },
      "text/plain": [
       "  0%|          | 0/1000 [00:00<?, ?it/s]"
      ]
     },
     "metadata": {},
     "output_type": "display_data"
    },
    {
     "name": "stdout",
     "output_type": "stream",
     "text": [
      "----- Preiteration 3 -----\n",
      "[2023/05/25 00:04:49]\t Updating metagenes\n"
     ]
    },
    {
     "data": {
      "application/vnd.jupyter.widget-view+json": {
       "model_id": "3b0e179e788143a391f9e22ae0143e5c",
       "version_major": 2,
       "version_minor": 0
      },
      "text/plain": [
       "Updating M:   0%|          | 0/10000 [00:00<?, ?it/s]"
      ]
     },
     "metadata": {},
     "output_type": "display_data"
    },
    {
     "name": "stdout",
     "output_type": "stream",
     "text": [
      "[2023/05/25 00:04:49]\t Updating sigma_yx\n",
      "[2023/05/25 00:04:49]\t Updating latent states\n"
     ]
    },
    {
     "data": {
      "application/vnd.jupyter.widget-view+json": {
       "model_id": "58191007d5b44c15b613d6b79143d3e6",
       "version_major": 2,
       "version_minor": 0
      },
      "text/plain": [
       "  0%|          | 0/1000 [00:00<?, ?it/s]"
      ]
     },
     "metadata": {},
     "output_type": "display_data"
    },
    {
     "data": {
      "application/vnd.jupyter.widget-view+json": {
       "model_id": "bae4339453fc4f6a87a08bedb64bf790",
       "version_major": 2,
       "version_minor": 0
      },
      "text/plain": [
       "  0%|          | 0/1000 [00:00<?, ?it/s]"
      ]
     },
     "metadata": {},
     "output_type": "display_data"
    },
    {
     "name": "stdout",
     "output_type": "stream",
     "text": [
      "----- Preiteration 4 -----\n",
      "[2023/05/25 00:04:50]\t Updating metagenes\n"
     ]
    },
    {
     "data": {
      "application/vnd.jupyter.widget-view+json": {
       "model_id": "871c81515e46443b827d64e0ce52ce01",
       "version_major": 2,
       "version_minor": 0
      },
      "text/plain": [
       "Updating M:   0%|          | 0/10000 [00:00<?, ?it/s]"
      ]
     },
     "metadata": {},
     "output_type": "display_data"
    },
    {
     "name": "stdout",
     "output_type": "stream",
     "text": [
      "[2023/05/25 00:04:51]\t Updating sigma_yx\n",
      "[2023/05/25 00:04:51]\t Updating latent states\n"
     ]
    },
    {
     "data": {
      "application/vnd.jupyter.widget-view+json": {
       "model_id": "77a616f36577466b9e43014f3c51b60f",
       "version_major": 2,
       "version_minor": 0
      },
      "text/plain": [
       "  0%|          | 0/1000 [00:00<?, ?it/s]"
      ]
     },
     "metadata": {},
     "output_type": "display_data"
    },
    {
     "data": {
      "application/vnd.jupyter.widget-view+json": {
       "model_id": "3fac656e2e22459fa6ae7e960dc0695c",
       "version_major": 2,
       "version_minor": 0
      },
      "text/plain": [
       "  0%|          | 0/1000 [00:00<?, ?it/s]"
      ]
     },
     "metadata": {},
     "output_type": "display_data"
    },
    {
     "name": "stdout",
     "output_type": "stream",
     "text": [
      "----- Preiteration 5 -----\n",
      "[2023/05/25 00:04:52]\t Updating metagenes\n"
     ]
    },
    {
     "data": {
      "application/vnd.jupyter.widget-view+json": {
       "model_id": "dc42ee7fd15143cf91365d83dbe9e472",
       "version_major": 2,
       "version_minor": 0
      },
      "text/plain": [
       "Updating M:   0%|          | 0/10000 [00:00<?, ?it/s]"
      ]
     },
     "metadata": {},
     "output_type": "display_data"
    },
    {
     "name": "stdout",
     "output_type": "stream",
     "text": [
      "[2023/05/25 00:04:52]\t Updating sigma_yx\n",
      "[2023/05/25 00:04:52]\t Updating latent states\n"
     ]
    },
    {
     "data": {
      "application/vnd.jupyter.widget-view+json": {
       "model_id": "d38d3e2ac47a495ebc49231cf9624025",
       "version_major": 2,
       "version_minor": 0
      },
      "text/plain": [
       "  0%|          | 0/1000 [00:00<?, ?it/s]"
      ]
     },
     "metadata": {},
     "output_type": "display_data"
    },
    {
     "data": {
      "application/vnd.jupyter.widget-view+json": {
       "model_id": "d8ecb1a717d046cbbd7cb5bdf0bc2c0e",
       "version_major": 2,
       "version_minor": 0
      },
      "text/plain": [
       "  0%|          | 0/1000 [00:00<?, ?it/s]"
      ]
     },
     "metadata": {},
     "output_type": "display_data"
    },
    {
     "name": "stdout",
     "output_type": "stream",
     "text": [
      "----- Preiteration 6 -----\n",
      "[2023/05/25 00:04:52]\t Updating metagenes\n"
     ]
    },
    {
     "data": {
      "application/vnd.jupyter.widget-view+json": {
       "model_id": "8dbb9d39b40b47a0a2811fd368b39989",
       "version_major": 2,
       "version_minor": 0
      },
      "text/plain": [
       "Updating M:   0%|          | 0/10000 [00:00<?, ?it/s]"
      ]
     },
     "metadata": {},
     "output_type": "display_data"
    },
    {
     "name": "stdout",
     "output_type": "stream",
     "text": [
      "[2023/05/25 00:04:53]\t Updating sigma_yx\n",
      "[2023/05/25 00:04:53]\t Updating latent states\n"
     ]
    },
    {
     "data": {
      "application/vnd.jupyter.widget-view+json": {
       "model_id": "590cd8b0f6bf40bc83ebb7340924f927",
       "version_major": 2,
       "version_minor": 0
      },
      "text/plain": [
       "  0%|          | 0/1000 [00:00<?, ?it/s]"
      ]
     },
     "metadata": {},
     "output_type": "display_data"
    },
    {
     "data": {
      "application/vnd.jupyter.widget-view+json": {
       "model_id": "4d0bfd74cf174021b175ea2f9935288c",
       "version_major": 2,
       "version_minor": 0
      },
      "text/plain": [
       "  0%|          | 0/1000 [00:00<?, ?it/s]"
      ]
     },
     "metadata": {},
     "output_type": "display_data"
    },
    {
     "name": "stdout",
     "output_type": "stream",
     "text": [
      "----- Preiteration 7 -----\n",
      "[2023/05/25 00:04:53]\t Updating metagenes\n"
     ]
    },
    {
     "data": {
      "application/vnd.jupyter.widget-view+json": {
       "model_id": "ea4e5c9639e349e2a3c4db29f98ce680",
       "version_major": 2,
       "version_minor": 0
      },
      "text/plain": [
       "Updating M:   0%|          | 0/10000 [00:00<?, ?it/s]"
      ]
     },
     "metadata": {},
     "output_type": "display_data"
    },
    {
     "name": "stdout",
     "output_type": "stream",
     "text": [
      "[2023/05/25 00:04:53]\t Updating sigma_yx\n",
      "[2023/05/25 00:04:54]\t Updating latent states\n"
     ]
    },
    {
     "data": {
      "application/vnd.jupyter.widget-view+json": {
       "model_id": "2db723bc392e46c0824429b6eea1c8fe",
       "version_major": 2,
       "version_minor": 0
      },
      "text/plain": [
       "  0%|          | 0/1000 [00:00<?, ?it/s]"
      ]
     },
     "metadata": {},
     "output_type": "display_data"
    },
    {
     "data": {
      "application/vnd.jupyter.widget-view+json": {
       "model_id": "2ae7ebb9ca36418faa25d236a5aa8ab7",
       "version_major": 2,
       "version_minor": 0
      },
      "text/plain": [
       "  0%|          | 0/1000 [00:00<?, ?it/s]"
      ]
     },
     "metadata": {},
     "output_type": "display_data"
    },
    {
     "name": "stdout",
     "output_type": "stream",
     "text": [
      "----- Preiteration 8 -----\n",
      "[2023/05/25 00:04:54]\t Updating metagenes\n"
     ]
    },
    {
     "data": {
      "application/vnd.jupyter.widget-view+json": {
       "model_id": "8c0864cce82c4c3ea43f181389658412",
       "version_major": 2,
       "version_minor": 0
      },
      "text/plain": [
       "Updating M:   0%|          | 0/10000 [00:00<?, ?it/s]"
      ]
     },
     "metadata": {},
     "output_type": "display_data"
    },
    {
     "name": "stdout",
     "output_type": "stream",
     "text": [
      "[2023/05/25 00:04:54]\t Updating sigma_yx\n",
      "[2023/05/25 00:04:55]\t Updating latent states\n"
     ]
    },
    {
     "data": {
      "application/vnd.jupyter.widget-view+json": {
       "model_id": "e563988f0230486bb2529157699c1892",
       "version_major": 2,
       "version_minor": 0
      },
      "text/plain": [
       "  0%|          | 0/1000 [00:00<?, ?it/s]"
      ]
     },
     "metadata": {},
     "output_type": "display_data"
    },
    {
     "data": {
      "application/vnd.jupyter.widget-view+json": {
       "model_id": "48e78a3ffa744e619d4f36895716c191",
       "version_major": 2,
       "version_minor": 0
      },
      "text/plain": [
       "  0%|          | 0/1000 [00:00<?, ?it/s]"
      ]
     },
     "metadata": {},
     "output_type": "display_data"
    },
    {
     "name": "stdout",
     "output_type": "stream",
     "text": [
      "----- Preiteration 9 -----\n",
      "[2023/05/25 00:04:55]\t Updating metagenes\n"
     ]
    },
    {
     "data": {
      "application/vnd.jupyter.widget-view+json": {
       "model_id": "c9a30cad1bee478eaa8c1a0aecdda812",
       "version_major": 2,
       "version_minor": 0
      },
      "text/plain": [
       "Updating M:   0%|          | 0/10000 [00:00<?, ?it/s]"
      ]
     },
     "metadata": {},
     "output_type": "display_data"
    },
    {
     "name": "stdout",
     "output_type": "stream",
     "text": [
      "[2023/05/25 00:04:55]\t Updating sigma_yx\n",
      "[2023/05/25 00:04:56]\t Updating latent states\n"
     ]
    },
    {
     "data": {
      "application/vnd.jupyter.widget-view+json": {
       "model_id": "0e806e4ede81419a958555705b507790",
       "version_major": 2,
       "version_minor": 0
      },
      "text/plain": [
       "  0%|          | 0/1000 [00:00<?, ?it/s]"
      ]
     },
     "metadata": {},
     "output_type": "display_data"
    },
    {
     "data": {
      "application/vnd.jupyter.widget-view+json": {
       "model_id": "6756342b2f1148d9bece5d75622c919c",
       "version_major": 2,
       "version_minor": 0
      },
      "text/plain": [
       "  0%|          | 0/1000 [00:00<?, ?it/s]"
      ]
     },
     "metadata": {},
     "output_type": "display_data"
    }
   ],
   "source": [
    "# Initialization with NMF\n",
    "for preiteration in range(10):\n",
    "    print(f\"----- Preiteration {preiteration} -----\")\n",
    "    hierarchical_example.estimate_parameters(update_spatial_affinities=False)\n",
    "    hierarchical_example.estimate_weights(use_neighbors=False)"
   ]
  },
  {
   "cell_type": "code",
   "execution_count": 18,
   "id": "a09540ca",
   "metadata": {},
   "outputs": [],
   "source": [
    "# Reinitialize spatial affinities\n",
    "pretrained_embeddings = [hierarchical_example.embedding_optimizer.embedding_state[dataset.name] for dataset in hierarchical_example.datasets]\n",
    "hierarchical_example.parameter_optimizer.spatial_affinity_state.initialize(pretrained_embeddings)"
   ]
  },
  {
   "cell_type": "code",
   "execution_count": 19,
   "id": "6749b7d3",
   "metadata": {
    "scrolled": true
   },
   "outputs": [
    {
     "name": "stdout",
     "output_type": "stream",
     "text": [
      "----- Iteration 0 -----\n",
      "[2023/05/25 00:04:56]\t Updating spatial affinities\n"
     ]
    },
    {
     "data": {
      "application/vnd.jupyter.widget-view+json": {
       "model_id": "0619cf02dae04a5c9e02cffb23cb8c14",
       "version_major": 2,
       "version_minor": 0
      },
      "text/plain": [
       "Updating Σx-1:   0%|          | 0/1000 [00:00<?, ?it/s]"
      ]
     },
     "metadata": {},
     "output_type": "display_data"
    },
    {
     "name": "stdout",
     "output_type": "stream",
     "text": [
      "[2023/05/25 00:04:59]\t Updating metagenes\n"
     ]
    },
    {
     "data": {
      "application/vnd.jupyter.widget-view+json": {
       "model_id": "074ded2bea5349b3b1caa7bf779913d0",
       "version_major": 2,
       "version_minor": 0
      },
      "text/plain": [
       "Updating M:   0%|          | 0/10000 [00:00<?, ?it/s]"
      ]
     },
     "metadata": {},
     "output_type": "display_data"
    },
    {
     "name": "stdout",
     "output_type": "stream",
     "text": [
      "[2023/05/25 00:04:59]\t Updating sigma_yx\n",
      "[2023/05/25 00:05:00]\t Updating latent states\n"
     ]
    },
    {
     "data": {
      "application/vnd.jupyter.widget-view+json": {
       "model_id": "79e9f74a867249358afa33f228f21ed3",
       "version_major": 2,
       "version_minor": 0
      },
      "text/plain": [
       "Updating weight w/ neighbors:   0%|          | 0/1000 [00:00<?, ?it/s]"
      ]
     },
     "metadata": {},
     "output_type": "display_data"
    },
    {
     "data": {
      "application/vnd.jupyter.widget-view+json": {
       "model_id": "a4c8ffbe24a54d5a8c6bd5e0c6fa4e98",
       "version_major": 2,
       "version_minor": 0
      },
      "text/plain": [
       "Updating weight w/ neighbors:   0%|          | 0/1000 [00:00<?, ?it/s]"
      ]
     },
     "metadata": {},
     "output_type": "display_data"
    },
    {
     "name": "stdout",
     "output_type": "stream",
     "text": [
      "----- Iteration 1 -----\n",
      "[2023/05/25 00:05:05]\t Updating spatial affinities\n"
     ]
    },
    {
     "data": {
      "application/vnd.jupyter.widget-view+json": {
       "model_id": "284ec639675142cf958f491a38d2b928",
       "version_major": 2,
       "version_minor": 0
      },
      "text/plain": [
       "Updating Σx-1:   0%|          | 0/1000 [00:00<?, ?it/s]"
      ]
     },
     "metadata": {},
     "output_type": "display_data"
    },
    {
     "name": "stdout",
     "output_type": "stream",
     "text": [
      "[2023/05/25 00:05:32]\t Updating metagenes\n"
     ]
    },
    {
     "data": {
      "application/vnd.jupyter.widget-view+json": {
       "model_id": "b2d611452c034d419c26a80783b50a79",
       "version_major": 2,
       "version_minor": 0
      },
      "text/plain": [
       "Updating M:   0%|          | 0/10000 [00:00<?, ?it/s]"
      ]
     },
     "metadata": {},
     "output_type": "display_data"
    },
    {
     "name": "stdout",
     "output_type": "stream",
     "text": [
      "[2023/05/25 00:05:32]\t Updating sigma_yx\n",
      "[2023/05/25 00:05:32]\t Updating latent states\n"
     ]
    },
    {
     "data": {
      "application/vnd.jupyter.widget-view+json": {
       "model_id": "29e599a5adee415a8621d95117c88019",
       "version_major": 2,
       "version_minor": 0
      },
      "text/plain": [
       "Updating weight w/ neighbors:   0%|          | 0/1000 [00:00<?, ?it/s]"
      ]
     },
     "metadata": {},
     "output_type": "display_data"
    },
    {
     "data": {
      "application/vnd.jupyter.widget-view+json": {
       "model_id": "f1436e80e1e14bd0ac5fc6b58d8483b8",
       "version_major": 2,
       "version_minor": 0
      },
      "text/plain": [
       "Updating weight w/ neighbors:   0%|          | 0/1000 [00:00<?, ?it/s]"
      ]
     },
     "metadata": {},
     "output_type": "display_data"
    },
    {
     "name": "stdout",
     "output_type": "stream",
     "text": [
      "----- Iteration 2 -----\n",
      "[2023/05/25 00:05:43]\t Updating spatial affinities\n"
     ]
    },
    {
     "data": {
      "application/vnd.jupyter.widget-view+json": {
       "model_id": "466177263745433098a40eb98b440a28",
       "version_major": 2,
       "version_minor": 0
      },
      "text/plain": [
       "Updating Σx-1:   0%|          | 0/1000 [00:00<?, ?it/s]"
      ]
     },
     "metadata": {},
     "output_type": "display_data"
    },
    {
     "name": "stdout",
     "output_type": "stream",
     "text": [
      "[2023/05/25 00:05:48]\t Updating metagenes\n"
     ]
    },
    {
     "data": {
      "application/vnd.jupyter.widget-view+json": {
       "model_id": "48245f9041074bb7837d0b66a0acd457",
       "version_major": 2,
       "version_minor": 0
      },
      "text/plain": [
       "Updating M:   0%|          | 0/10000 [00:00<?, ?it/s]"
      ]
     },
     "metadata": {},
     "output_type": "display_data"
    },
    {
     "name": "stdout",
     "output_type": "stream",
     "text": [
      "[2023/05/25 00:05:48]\t Updating sigma_yx\n",
      "[2023/05/25 00:05:48]\t Updating latent states\n"
     ]
    },
    {
     "data": {
      "application/vnd.jupyter.widget-view+json": {
       "model_id": "685699ef758348669e23959530eee000",
       "version_major": 2,
       "version_minor": 0
      },
      "text/plain": [
       "Updating weight w/ neighbors:   0%|          | 0/1000 [00:00<?, ?it/s]"
      ]
     },
     "metadata": {},
     "output_type": "display_data"
    },
    {
     "data": {
      "application/vnd.jupyter.widget-view+json": {
       "model_id": "47a91f7711624425b581c47ba542cd78",
       "version_major": 2,
       "version_minor": 0
      },
      "text/plain": [
       "Updating weight w/ neighbors:   0%|          | 0/1000 [00:00<?, ?it/s]"
      ]
     },
     "metadata": {},
     "output_type": "display_data"
    },
    {
     "name": "stdout",
     "output_type": "stream",
     "text": [
      "----- Iteration 3 -----\n",
      "[2023/05/25 00:05:58]\t Updating spatial affinities\n"
     ]
    },
    {
     "data": {
      "application/vnd.jupyter.widget-view+json": {
       "model_id": "e1b081dfb0ea4b718b9fd2fb0478d769",
       "version_major": 2,
       "version_minor": 0
      },
      "text/plain": [
       "Updating Σx-1:   0%|          | 0/1000 [00:00<?, ?it/s]"
      ]
     },
     "metadata": {},
     "output_type": "display_data"
    },
    {
     "name": "stdout",
     "output_type": "stream",
     "text": [
      "[2023/05/25 00:06:01]\t Updating metagenes\n"
     ]
    },
    {
     "data": {
      "application/vnd.jupyter.widget-view+json": {
       "model_id": "271410d29c1548d88b96371d749b65d6",
       "version_major": 2,
       "version_minor": 0
      },
      "text/plain": [
       "Updating M:   0%|          | 0/10000 [00:00<?, ?it/s]"
      ]
     },
     "metadata": {},
     "output_type": "display_data"
    },
    {
     "name": "stdout",
     "output_type": "stream",
     "text": [
      "[2023/05/25 00:06:02]\t Updating sigma_yx\n",
      "[2023/05/25 00:06:02]\t Updating latent states\n"
     ]
    },
    {
     "data": {
      "application/vnd.jupyter.widget-view+json": {
       "model_id": "ac28e1b0571741099627f6897719dc02",
       "version_major": 2,
       "version_minor": 0
      },
      "text/plain": [
       "Updating weight w/ neighbors:   0%|          | 0/1000 [00:00<?, ?it/s]"
      ]
     },
     "metadata": {},
     "output_type": "display_data"
    },
    {
     "data": {
      "application/vnd.jupyter.widget-view+json": {
       "model_id": "ad729698f06b4f309c5f7f4ac7ec49c8",
       "version_major": 2,
       "version_minor": 0
      },
      "text/plain": [
       "Updating weight w/ neighbors:   0%|          | 0/1000 [00:00<?, ?it/s]"
      ]
     },
     "metadata": {},
     "output_type": "display_data"
    },
    {
     "name": "stdout",
     "output_type": "stream",
     "text": [
      "----- Iteration 4 -----\n",
      "[2023/05/25 00:06:08]\t Updating spatial affinities\n"
     ]
    },
    {
     "data": {
      "application/vnd.jupyter.widget-view+json": {
       "model_id": "e3ec7fef1dcf44b59f4675f106290ce8",
       "version_major": 2,
       "version_minor": 0
      },
      "text/plain": [
       "Updating Σx-1:   0%|          | 0/1000 [00:00<?, ?it/s]"
      ]
     },
     "metadata": {},
     "output_type": "display_data"
    },
    {
     "name": "stdout",
     "output_type": "stream",
     "text": [
      "[2023/05/25 00:06:10]\t Updating metagenes\n"
     ]
    },
    {
     "data": {
      "application/vnd.jupyter.widget-view+json": {
       "model_id": "a09196821d4447e3b4ec01baf0f4fb1e",
       "version_major": 2,
       "version_minor": 0
      },
      "text/plain": [
       "Updating M:   0%|          | 0/10000 [00:00<?, ?it/s]"
      ]
     },
     "metadata": {},
     "output_type": "display_data"
    },
    {
     "name": "stdout",
     "output_type": "stream",
     "text": [
      "[2023/05/25 00:06:11]\t Updating sigma_yx\n",
      "[2023/05/25 00:06:11]\t Updating latent states\n"
     ]
    },
    {
     "data": {
      "application/vnd.jupyter.widget-view+json": {
       "model_id": "a385fb75ceaa4f39a557b861b0de4b9b",
       "version_major": 2,
       "version_minor": 0
      },
      "text/plain": [
       "Updating weight w/ neighbors:   0%|          | 0/1000 [00:00<?, ?it/s]"
      ]
     },
     "metadata": {},
     "output_type": "display_data"
    },
    {
     "data": {
      "application/vnd.jupyter.widget-view+json": {
       "model_id": "3f92ca39681c43e79f703ec06d486676",
       "version_major": 2,
       "version_minor": 0
      },
      "text/plain": [
       "Updating weight w/ neighbors:   0%|          | 0/1000 [00:00<?, ?it/s]"
      ]
     },
     "metadata": {},
     "output_type": "display_data"
    },
    {
     "name": "stdout",
     "output_type": "stream",
     "text": [
      "----- Iteration 5 -----\n",
      "[2023/05/25 00:06:19]\t Updating spatial affinities\n"
     ]
    },
    {
     "data": {
      "application/vnd.jupyter.widget-view+json": {
       "model_id": "e35916fe237747108a58a15b7b7559a3",
       "version_major": 2,
       "version_minor": 0
      },
      "text/plain": [
       "Updating Σx-1:   0%|          | 0/1000 [00:00<?, ?it/s]"
      ]
     },
     "metadata": {},
     "output_type": "display_data"
    },
    {
     "name": "stdout",
     "output_type": "stream",
     "text": [
      "[2023/05/25 00:06:21]\t Updating metagenes\n"
     ]
    },
    {
     "data": {
      "application/vnd.jupyter.widget-view+json": {
       "model_id": "102c42f119b34a0eab372ec92e54efd9",
       "version_major": 2,
       "version_minor": 0
      },
      "text/plain": [
       "Updating M:   0%|          | 0/10000 [00:00<?, ?it/s]"
      ]
     },
     "metadata": {},
     "output_type": "display_data"
    },
    {
     "name": "stdout",
     "output_type": "stream",
     "text": [
      "[2023/05/25 00:06:21]\t Updating sigma_yx\n",
      "[2023/05/25 00:06:22]\t Updating latent states\n"
     ]
    },
    {
     "data": {
      "application/vnd.jupyter.widget-view+json": {
       "model_id": "4c2f73081bf74323bef208eb432f42e3",
       "version_major": 2,
       "version_minor": 0
      },
      "text/plain": [
       "Updating weight w/ neighbors:   0%|          | 0/1000 [00:00<?, ?it/s]"
      ]
     },
     "metadata": {},
     "output_type": "display_data"
    },
    {
     "data": {
      "application/vnd.jupyter.widget-view+json": {
       "model_id": "ade14a21ffc64b7e844ec6214b3b04a4",
       "version_major": 2,
       "version_minor": 0
      },
      "text/plain": [
       "Updating weight w/ neighbors:   0%|          | 0/1000 [00:00<?, ?it/s]"
      ]
     },
     "metadata": {},
     "output_type": "display_data"
    },
    {
     "name": "stdout",
     "output_type": "stream",
     "text": [
      "----- Iteration 6 -----\n",
      "[2023/05/25 00:06:27]\t Updating spatial affinities\n"
     ]
    },
    {
     "data": {
      "application/vnd.jupyter.widget-view+json": {
       "model_id": "4bedf7e26099431f8927060b395fe2b0",
       "version_major": 2,
       "version_minor": 0
      },
      "text/plain": [
       "Updating Σx-1:   0%|          | 0/1000 [00:00<?, ?it/s]"
      ]
     },
     "metadata": {},
     "output_type": "display_data"
    },
    {
     "name": "stdout",
     "output_type": "stream",
     "text": [
      "[2023/05/25 00:06:30]\t Updating metagenes\n"
     ]
    },
    {
     "data": {
      "application/vnd.jupyter.widget-view+json": {
       "model_id": "c91f8ece2cf44facacdb4d00e86a0491",
       "version_major": 2,
       "version_minor": 0
      },
      "text/plain": [
       "Updating M:   0%|          | 0/10000 [00:00<?, ?it/s]"
      ]
     },
     "metadata": {},
     "output_type": "display_data"
    },
    {
     "name": "stdout",
     "output_type": "stream",
     "text": [
      "[2023/05/25 00:06:30]\t Updating sigma_yx\n",
      "[2023/05/25 00:06:30]\t Updating latent states\n"
     ]
    },
    {
     "data": {
      "application/vnd.jupyter.widget-view+json": {
       "model_id": "538885d113ac44b5b53f79d181538695",
       "version_major": 2,
       "version_minor": 0
      },
      "text/plain": [
       "Updating weight w/ neighbors:   0%|          | 0/1000 [00:00<?, ?it/s]"
      ]
     },
     "metadata": {},
     "output_type": "display_data"
    },
    {
     "data": {
      "application/vnd.jupyter.widget-view+json": {
       "model_id": "54d958be46e44a3aad88304e3670d8c8",
       "version_major": 2,
       "version_minor": 0
      },
      "text/plain": [
       "Updating weight w/ neighbors:   0%|          | 0/1000 [00:00<?, ?it/s]"
      ]
     },
     "metadata": {},
     "output_type": "display_data"
    },
    {
     "name": "stdout",
     "output_type": "stream",
     "text": [
      "----- Iteration 7 -----\n",
      "[2023/05/25 00:06:35]\t Updating spatial affinities\n"
     ]
    },
    {
     "data": {
      "application/vnd.jupyter.widget-view+json": {
       "model_id": "6f91d21bc5904fdc9638e5895eb55bd2",
       "version_major": 2,
       "version_minor": 0
      },
      "text/plain": [
       "Updating Σx-1:   0%|          | 0/1000 [00:00<?, ?it/s]"
      ]
     },
     "metadata": {},
     "output_type": "display_data"
    },
    {
     "name": "stdout",
     "output_type": "stream",
     "text": [
      "[2023/05/25 00:06:38]\t Updating metagenes\n"
     ]
    },
    {
     "data": {
      "application/vnd.jupyter.widget-view+json": {
       "model_id": "d6d305d5d125469fafea5bd4b310efce",
       "version_major": 2,
       "version_minor": 0
      },
      "text/plain": [
       "Updating M:   0%|          | 0/10000 [00:00<?, ?it/s]"
      ]
     },
     "metadata": {},
     "output_type": "display_data"
    },
    {
     "name": "stdout",
     "output_type": "stream",
     "text": [
      "[2023/05/25 00:06:38]\t Updating sigma_yx\n",
      "[2023/05/25 00:06:38]\t Updating latent states\n"
     ]
    },
    {
     "data": {
      "application/vnd.jupyter.widget-view+json": {
       "model_id": "4e0235fc63444381993eee55ecad0e50",
       "version_major": 2,
       "version_minor": 0
      },
      "text/plain": [
       "Updating weight w/ neighbors:   0%|          | 0/1000 [00:00<?, ?it/s]"
      ]
     },
     "metadata": {},
     "output_type": "display_data"
    },
    {
     "data": {
      "application/vnd.jupyter.widget-view+json": {
       "model_id": "b1fa4ea0cdc14f9f92dea377b90bc7ee",
       "version_major": 2,
       "version_minor": 0
      },
      "text/plain": [
       "Updating weight w/ neighbors:   0%|          | 0/1000 [00:00<?, ?it/s]"
      ]
     },
     "metadata": {},
     "output_type": "display_data"
    },
    {
     "name": "stdout",
     "output_type": "stream",
     "text": [
      "----- Iteration 8 -----\n",
      "[2023/05/25 00:06:43]\t Updating spatial affinities\n"
     ]
    },
    {
     "data": {
      "application/vnd.jupyter.widget-view+json": {
       "model_id": "a1fd201fb44c4752a31ef1e0ac2132cf",
       "version_major": 2,
       "version_minor": 0
      },
      "text/plain": [
       "Updating Σx-1:   0%|          | 0/1000 [00:00<?, ?it/s]"
      ]
     },
     "metadata": {},
     "output_type": "display_data"
    },
    {
     "name": "stdout",
     "output_type": "stream",
     "text": [
      "[2023/05/25 00:06:46]\t Updating metagenes\n"
     ]
    },
    {
     "data": {
      "application/vnd.jupyter.widget-view+json": {
       "model_id": "778da2674ce4498d8ea27eb50213bd87",
       "version_major": 2,
       "version_minor": 0
      },
      "text/plain": [
       "Updating M:   0%|          | 0/10000 [00:00<?, ?it/s]"
      ]
     },
     "metadata": {},
     "output_type": "display_data"
    },
    {
     "name": "stdout",
     "output_type": "stream",
     "text": [
      "[2023/05/25 00:06:46]\t Updating sigma_yx\n",
      "[2023/05/25 00:06:46]\t Updating latent states\n"
     ]
    },
    {
     "data": {
      "application/vnd.jupyter.widget-view+json": {
       "model_id": "4ec80612d59d455587990c32c943384f",
       "version_major": 2,
       "version_minor": 0
      },
      "text/plain": [
       "Updating weight w/ neighbors:   0%|          | 0/1000 [00:00<?, ?it/s]"
      ]
     },
     "metadata": {},
     "output_type": "display_data"
    },
    {
     "data": {
      "application/vnd.jupyter.widget-view+json": {
       "model_id": "664aa6716bd5433a938e6899ddb8b4f4",
       "version_major": 2,
       "version_minor": 0
      },
      "text/plain": [
       "Updating weight w/ neighbors:   0%|          | 0/1000 [00:00<?, ?it/s]"
      ]
     },
     "metadata": {},
     "output_type": "display_data"
    },
    {
     "name": "stdout",
     "output_type": "stream",
     "text": [
      "----- Iteration 9 -----\n",
      "[2023/05/25 00:06:50]\t Updating spatial affinities\n"
     ]
    },
    {
     "data": {
      "application/vnd.jupyter.widget-view+json": {
       "model_id": "49d751d4b73e48238e3f473c8dd24460",
       "version_major": 2,
       "version_minor": 0
      },
      "text/plain": [
       "Updating Σx-1:   0%|          | 0/1000 [00:00<?, ?it/s]"
      ]
     },
     "metadata": {},
     "output_type": "display_data"
    },
    {
     "name": "stdout",
     "output_type": "stream",
     "text": [
      "[2023/05/25 00:06:53]\t Updating metagenes\n"
     ]
    },
    {
     "data": {
      "application/vnd.jupyter.widget-view+json": {
       "model_id": "dbd3aa4088cf4d219ddc4b49cc4a7c43",
       "version_major": 2,
       "version_minor": 0
      },
      "text/plain": [
       "Updating M:   0%|          | 0/10000 [00:00<?, ?it/s]"
      ]
     },
     "metadata": {},
     "output_type": "display_data"
    },
    {
     "name": "stdout",
     "output_type": "stream",
     "text": [
      "[2023/05/25 00:06:53]\t Updating sigma_yx\n",
      "[2023/05/25 00:06:53]\t Updating latent states\n"
     ]
    },
    {
     "data": {
      "application/vnd.jupyter.widget-view+json": {
       "model_id": "4034e4d53aac423a912c63c86048fdd1",
       "version_major": 2,
       "version_minor": 0
      },
      "text/plain": [
       "Updating weight w/ neighbors:   0%|          | 0/1000 [00:00<?, ?it/s]"
      ]
     },
     "metadata": {},
     "output_type": "display_data"
    },
    {
     "data": {
      "application/vnd.jupyter.widget-view+json": {
       "model_id": "c38cf8491b284a7c8084f9e565115150",
       "version_major": 2,
       "version_minor": 0
      },
      "text/plain": [
       "Updating weight w/ neighbors:   0%|          | 0/1000 [00:00<?, ?it/s]"
      ]
     },
     "metadata": {},
     "output_type": "display_data"
    },
    {
     "name": "stdout",
     "output_type": "stream",
     "text": [
      "----- Iteration 10 -----\n",
      "[2023/05/25 00:06:57]\t Updating spatial affinities\n"
     ]
    },
    {
     "data": {
      "application/vnd.jupyter.widget-view+json": {
       "model_id": "50c09adec23f43d7ba965ea912a70106",
       "version_major": 2,
       "version_minor": 0
      },
      "text/plain": [
       "Updating Σx-1:   0%|          | 0/1000 [00:00<?, ?it/s]"
      ]
     },
     "metadata": {},
     "output_type": "display_data"
    },
    {
     "name": "stdout",
     "output_type": "stream",
     "text": [
      "[2023/05/25 00:07:00]\t Updating metagenes\n"
     ]
    },
    {
     "data": {
      "application/vnd.jupyter.widget-view+json": {
       "model_id": "9a2765b529034d3b824fd381d6275490",
       "version_major": 2,
       "version_minor": 0
      },
      "text/plain": [
       "Updating M:   0%|          | 0/10000 [00:00<?, ?it/s]"
      ]
     },
     "metadata": {},
     "output_type": "display_data"
    },
    {
     "name": "stdout",
     "output_type": "stream",
     "text": [
      "[2023/05/25 00:07:00]\t Updating sigma_yx\n",
      "[2023/05/25 00:07:00]\t Updating latent states\n"
     ]
    },
    {
     "data": {
      "application/vnd.jupyter.widget-view+json": {
       "model_id": "14f72788cdb84f43949578103392fd52",
       "version_major": 2,
       "version_minor": 0
      },
      "text/plain": [
       "Updating weight w/ neighbors:   0%|          | 0/1000 [00:00<?, ?it/s]"
      ]
     },
     "metadata": {},
     "output_type": "display_data"
    },
    {
     "data": {
      "application/vnd.jupyter.widget-view+json": {
       "model_id": "90490aae1cb84187bb43517f95f7f69f",
       "version_major": 2,
       "version_minor": 0
      },
      "text/plain": [
       "Updating weight w/ neighbors:   0%|          | 0/1000 [00:00<?, ?it/s]"
      ]
     },
     "metadata": {},
     "output_type": "display_data"
    },
    {
     "name": "stdout",
     "output_type": "stream",
     "text": [
      "----- Iteration 11 -----\n",
      "[2023/05/25 00:07:06]\t Updating spatial affinities\n"
     ]
    },
    {
     "data": {
      "application/vnd.jupyter.widget-view+json": {
       "model_id": "aa031ac45e8a43c894cc9ae4dd3f1f53",
       "version_major": 2,
       "version_minor": 0
      },
      "text/plain": [
       "Updating Σx-1:   0%|          | 0/1000 [00:00<?, ?it/s]"
      ]
     },
     "metadata": {},
     "output_type": "display_data"
    },
    {
     "name": "stdout",
     "output_type": "stream",
     "text": [
      "[2023/05/25 00:07:08]\t Updating metagenes\n"
     ]
    },
    {
     "data": {
      "application/vnd.jupyter.widget-view+json": {
       "model_id": "8c391c75acd64d4590a458cff40ba9b4",
       "version_major": 2,
       "version_minor": 0
      },
      "text/plain": [
       "Updating M:   0%|          | 0/10000 [00:00<?, ?it/s]"
      ]
     },
     "metadata": {},
     "output_type": "display_data"
    },
    {
     "name": "stdout",
     "output_type": "stream",
     "text": [
      "[2023/05/25 00:07:08]\t Updating sigma_yx\n",
      "[2023/05/25 00:07:08]\t Updating latent states\n"
     ]
    },
    {
     "data": {
      "application/vnd.jupyter.widget-view+json": {
       "model_id": "5b71bbb03f6b4937ae8c12e935048feb",
       "version_major": 2,
       "version_minor": 0
      },
      "text/plain": [
       "Updating weight w/ neighbors:   0%|          | 0/1000 [00:00<?, ?it/s]"
      ]
     },
     "metadata": {},
     "output_type": "display_data"
    },
    {
     "data": {
      "application/vnd.jupyter.widget-view+json": {
       "model_id": "945884f779f249f3a19df2a7a9ec7214",
       "version_major": 2,
       "version_minor": 0
      },
      "text/plain": [
       "Updating weight w/ neighbors:   0%|          | 0/1000 [00:00<?, ?it/s]"
      ]
     },
     "metadata": {},
     "output_type": "display_data"
    },
    {
     "name": "stdout",
     "output_type": "stream",
     "text": [
      "----- Iteration 12 -----\n",
      "[2023/05/25 00:07:14]\t Updating spatial affinities\n"
     ]
    },
    {
     "data": {
      "application/vnd.jupyter.widget-view+json": {
       "model_id": "7b9f556ea2dd40f4a83e3f3c9eb6b358",
       "version_major": 2,
       "version_minor": 0
      },
      "text/plain": [
       "Updating Σx-1:   0%|          | 0/1000 [00:00<?, ?it/s]"
      ]
     },
     "metadata": {},
     "output_type": "display_data"
    },
    {
     "name": "stdout",
     "output_type": "stream",
     "text": [
      "[2023/05/25 00:07:17]\t Updating metagenes\n"
     ]
    },
    {
     "data": {
      "application/vnd.jupyter.widget-view+json": {
       "model_id": "748e5d73325643b981717902d093a516",
       "version_major": 2,
       "version_minor": 0
      },
      "text/plain": [
       "Updating M:   0%|          | 0/10000 [00:00<?, ?it/s]"
      ]
     },
     "metadata": {},
     "output_type": "display_data"
    },
    {
     "name": "stdout",
     "output_type": "stream",
     "text": [
      "[2023/05/25 00:07:17]\t Updating sigma_yx\n",
      "[2023/05/25 00:07:17]\t Updating latent states\n"
     ]
    },
    {
     "data": {
      "application/vnd.jupyter.widget-view+json": {
       "model_id": "a5490b83c069464c89915ec718ebf8c5",
       "version_major": 2,
       "version_minor": 0
      },
      "text/plain": [
       "Updating weight w/ neighbors:   0%|          | 0/1000 [00:00<?, ?it/s]"
      ]
     },
     "metadata": {},
     "output_type": "display_data"
    },
    {
     "data": {
      "application/vnd.jupyter.widget-view+json": {
       "model_id": "2e1d0be341304ed38641ca26e378d23f",
       "version_major": 2,
       "version_minor": 0
      },
      "text/plain": [
       "Updating weight w/ neighbors:   0%|          | 0/1000 [00:00<?, ?it/s]"
      ]
     },
     "metadata": {},
     "output_type": "display_data"
    },
    {
     "name": "stdout",
     "output_type": "stream",
     "text": [
      "----- Iteration 13 -----\n",
      "[2023/05/25 00:07:21]\t Updating spatial affinities\n"
     ]
    },
    {
     "data": {
      "application/vnd.jupyter.widget-view+json": {
       "model_id": "5a7d66586acf404aac7729e35a3d3fd5",
       "version_major": 2,
       "version_minor": 0
      },
      "text/plain": [
       "Updating Σx-1:   0%|          | 0/1000 [00:00<?, ?it/s]"
      ]
     },
     "metadata": {},
     "output_type": "display_data"
    },
    {
     "name": "stdout",
     "output_type": "stream",
     "text": [
      "[2023/05/25 00:07:24]\t Updating metagenes\n"
     ]
    },
    {
     "data": {
      "application/vnd.jupyter.widget-view+json": {
       "model_id": "66e394c749574002913a983b6772c9a3",
       "version_major": 2,
       "version_minor": 0
      },
      "text/plain": [
       "Updating M:   0%|          | 0/10000 [00:00<?, ?it/s]"
      ]
     },
     "metadata": {},
     "output_type": "display_data"
    },
    {
     "name": "stdout",
     "output_type": "stream",
     "text": [
      "[2023/05/25 00:07:24]\t Updating sigma_yx\n",
      "[2023/05/25 00:07:24]\t Updating latent states\n"
     ]
    },
    {
     "data": {
      "application/vnd.jupyter.widget-view+json": {
       "model_id": "9fa5074cc21042108a5682e94b8f6c4a",
       "version_major": 2,
       "version_minor": 0
      },
      "text/plain": [
       "Updating weight w/ neighbors:   0%|          | 0/1000 [00:00<?, ?it/s]"
      ]
     },
     "metadata": {},
     "output_type": "display_data"
    },
    {
     "data": {
      "application/vnd.jupyter.widget-view+json": {
       "model_id": "afb4f7c6376c485cb3fdb952e876013b",
       "version_major": 2,
       "version_minor": 0
      },
      "text/plain": [
       "Updating weight w/ neighbors:   0%|          | 0/1000 [00:00<?, ?it/s]"
      ]
     },
     "metadata": {},
     "output_type": "display_data"
    },
    {
     "name": "stdout",
     "output_type": "stream",
     "text": [
      "----- Iteration 14 -----\n",
      "[2023/05/25 00:07:28]\t Updating spatial affinities\n"
     ]
    },
    {
     "data": {
      "application/vnd.jupyter.widget-view+json": {
       "model_id": "47731d6bb3794a20bf4dc671d09440ba",
       "version_major": 2,
       "version_minor": 0
      },
      "text/plain": [
       "Updating Σx-1:   0%|          | 0/1000 [00:00<?, ?it/s]"
      ]
     },
     "metadata": {},
     "output_type": "display_data"
    },
    {
     "name": "stdout",
     "output_type": "stream",
     "text": [
      "[2023/05/25 00:07:31]\t Updating metagenes\n"
     ]
    },
    {
     "data": {
      "application/vnd.jupyter.widget-view+json": {
       "model_id": "ef190e620ad94da294b54373f85a8c30",
       "version_major": 2,
       "version_minor": 0
      },
      "text/plain": [
       "Updating M:   0%|          | 0/10000 [00:00<?, ?it/s]"
      ]
     },
     "metadata": {},
     "output_type": "display_data"
    },
    {
     "name": "stdout",
     "output_type": "stream",
     "text": [
      "[2023/05/25 00:07:31]\t Updating sigma_yx\n",
      "[2023/05/25 00:07:31]\t Updating latent states\n"
     ]
    },
    {
     "data": {
      "application/vnd.jupyter.widget-view+json": {
       "model_id": "f4b61476443345e4bda4b6eeae69eb61",
       "version_major": 2,
       "version_minor": 0
      },
      "text/plain": [
       "Updating weight w/ neighbors:   0%|          | 0/1000 [00:00<?, ?it/s]"
      ]
     },
     "metadata": {},
     "output_type": "display_data"
    },
    {
     "data": {
      "application/vnd.jupyter.widget-view+json": {
       "model_id": "77a76ccbb7f34210aeab3598d23e74d6",
       "version_major": 2,
       "version_minor": 0
      },
      "text/plain": [
       "Updating weight w/ neighbors:   0%|          | 0/1000 [00:00<?, ?it/s]"
      ]
     },
     "metadata": {},
     "output_type": "display_data"
    },
    {
     "name": "stdout",
     "output_type": "stream",
     "text": [
      "----- Iteration 15 -----\n",
      "[2023/05/25 00:07:34]\t Updating spatial affinities\n"
     ]
    },
    {
     "data": {
      "application/vnd.jupyter.widget-view+json": {
       "model_id": "bb25d9f6edc94873b8287cb9931bb536",
       "version_major": 2,
       "version_minor": 0
      },
      "text/plain": [
       "Updating Σx-1:   0%|          | 0/1000 [00:00<?, ?it/s]"
      ]
     },
     "metadata": {},
     "output_type": "display_data"
    },
    {
     "name": "stdout",
     "output_type": "stream",
     "text": [
      "[2023/05/25 00:07:36]\t Updating metagenes\n"
     ]
    },
    {
     "data": {
      "application/vnd.jupyter.widget-view+json": {
       "model_id": "b0af8392b9d7452b8f1858d5c7a8c92c",
       "version_major": 2,
       "version_minor": 0
      },
      "text/plain": [
       "Updating M:   0%|          | 0/10000 [00:00<?, ?it/s]"
      ]
     },
     "metadata": {},
     "output_type": "display_data"
    },
    {
     "name": "stdout",
     "output_type": "stream",
     "text": [
      "[2023/05/25 00:07:36]\t Updating sigma_yx\n",
      "[2023/05/25 00:07:36]\t Updating latent states\n"
     ]
    },
    {
     "data": {
      "application/vnd.jupyter.widget-view+json": {
       "model_id": "e87a7ce2ca414c5599f508f4b36bd932",
       "version_major": 2,
       "version_minor": 0
      },
      "text/plain": [
       "Updating weight w/ neighbors:   0%|          | 0/1000 [00:00<?, ?it/s]"
      ]
     },
     "metadata": {},
     "output_type": "display_data"
    },
    {
     "data": {
      "application/vnd.jupyter.widget-view+json": {
       "model_id": "adaa37cdae3942128b9b733d2defda4c",
       "version_major": 2,
       "version_minor": 0
      },
      "text/plain": [
       "Updating weight w/ neighbors:   0%|          | 0/1000 [00:00<?, ?it/s]"
      ]
     },
     "metadata": {},
     "output_type": "display_data"
    },
    {
     "name": "stdout",
     "output_type": "stream",
     "text": [
      "----- Iteration 16 -----\n",
      "[2023/05/25 00:07:39]\t Updating spatial affinities\n"
     ]
    },
    {
     "data": {
      "application/vnd.jupyter.widget-view+json": {
       "model_id": "8592daad2e234c51bb5d977dca29316d",
       "version_major": 2,
       "version_minor": 0
      },
      "text/plain": [
       "Updating Σx-1:   0%|          | 0/1000 [00:00<?, ?it/s]"
      ]
     },
     "metadata": {},
     "output_type": "display_data"
    },
    {
     "name": "stdout",
     "output_type": "stream",
     "text": [
      "[2023/05/25 00:07:40]\t Updating metagenes\n"
     ]
    },
    {
     "data": {
      "application/vnd.jupyter.widget-view+json": {
       "model_id": "5a394a3fee114f21bc9e55e7ac2ee355",
       "version_major": 2,
       "version_minor": 0
      },
      "text/plain": [
       "Updating M:   0%|          | 0/10000 [00:00<?, ?it/s]"
      ]
     },
     "metadata": {},
     "output_type": "display_data"
    },
    {
     "name": "stdout",
     "output_type": "stream",
     "text": [
      "[2023/05/25 00:07:41]\t Updating sigma_yx\n",
      "[2023/05/25 00:07:41]\t Updating latent states\n"
     ]
    },
    {
     "data": {
      "application/vnd.jupyter.widget-view+json": {
       "model_id": "38740d4c381d48f48f818dd53bc6db3f",
       "version_major": 2,
       "version_minor": 0
      },
      "text/plain": [
       "Updating weight w/ neighbors:   0%|          | 0/1000 [00:00<?, ?it/s]"
      ]
     },
     "metadata": {},
     "output_type": "display_data"
    },
    {
     "data": {
      "application/vnd.jupyter.widget-view+json": {
       "model_id": "36c84fe7da964e92a3786aaa7e1dbbe9",
       "version_major": 2,
       "version_minor": 0
      },
      "text/plain": [
       "Updating weight w/ neighbors:   0%|          | 0/1000 [00:00<?, ?it/s]"
      ]
     },
     "metadata": {},
     "output_type": "display_data"
    },
    {
     "name": "stdout",
     "output_type": "stream",
     "text": [
      "----- Iteration 17 -----\n",
      "[2023/05/25 00:07:44]\t Updating spatial affinities\n"
     ]
    },
    {
     "data": {
      "application/vnd.jupyter.widget-view+json": {
       "model_id": "03634017edb041e7a7140fbebfa44875",
       "version_major": 2,
       "version_minor": 0
      },
      "text/plain": [
       "Updating Σx-1:   0%|          | 0/1000 [00:00<?, ?it/s]"
      ]
     },
     "metadata": {},
     "output_type": "display_data"
    },
    {
     "name": "stdout",
     "output_type": "stream",
     "text": [
      "[2023/05/25 00:07:46]\t Updating metagenes\n"
     ]
    },
    {
     "data": {
      "application/vnd.jupyter.widget-view+json": {
       "model_id": "cd9e73da2af94b978144c5d7a563ba74",
       "version_major": 2,
       "version_minor": 0
      },
      "text/plain": [
       "Updating M:   0%|          | 0/10000 [00:00<?, ?it/s]"
      ]
     },
     "metadata": {},
     "output_type": "display_data"
    },
    {
     "name": "stdout",
     "output_type": "stream",
     "text": [
      "[2023/05/25 00:07:46]\t Updating sigma_yx\n",
      "[2023/05/25 00:07:46]\t Updating latent states\n"
     ]
    },
    {
     "data": {
      "application/vnd.jupyter.widget-view+json": {
       "model_id": "4d8f4e1f3bc34872ba62c947c307fb98",
       "version_major": 2,
       "version_minor": 0
      },
      "text/plain": [
       "Updating weight w/ neighbors:   0%|          | 0/1000 [00:00<?, ?it/s]"
      ]
     },
     "metadata": {},
     "output_type": "display_data"
    },
    {
     "data": {
      "application/vnd.jupyter.widget-view+json": {
       "model_id": "0a5a4b75a0e84f53b803a47c8310a9c3",
       "version_major": 2,
       "version_minor": 0
      },
      "text/plain": [
       "Updating weight w/ neighbors:   0%|          | 0/1000 [00:00<?, ?it/s]"
      ]
     },
     "metadata": {},
     "output_type": "display_data"
    },
    {
     "name": "stdout",
     "output_type": "stream",
     "text": [
      "----- Iteration 18 -----\n",
      "[2023/05/25 00:07:49]\t Updating spatial affinities\n"
     ]
    },
    {
     "data": {
      "application/vnd.jupyter.widget-view+json": {
       "model_id": "4b238678470a4dad964509628c8ab0bb",
       "version_major": 2,
       "version_minor": 0
      },
      "text/plain": [
       "Updating Σx-1:   0%|          | 0/1000 [00:00<?, ?it/s]"
      ]
     },
     "metadata": {},
     "output_type": "display_data"
    },
    {
     "name": "stdout",
     "output_type": "stream",
     "text": [
      "[2023/05/25 00:07:52]\t Updating metagenes\n"
     ]
    },
    {
     "data": {
      "application/vnd.jupyter.widget-view+json": {
       "model_id": "25ae6485eb9048aab58651e5e397780b",
       "version_major": 2,
       "version_minor": 0
      },
      "text/plain": [
       "Updating M:   0%|          | 0/10000 [00:00<?, ?it/s]"
      ]
     },
     "metadata": {},
     "output_type": "display_data"
    },
    {
     "name": "stdout",
     "output_type": "stream",
     "text": [
      "[2023/05/25 00:07:52]\t Updating sigma_yx\n",
      "[2023/05/25 00:07:52]\t Updating latent states\n"
     ]
    },
    {
     "data": {
      "application/vnd.jupyter.widget-view+json": {
       "model_id": "efb2b52fdae747388fde29013f56726d",
       "version_major": 2,
       "version_minor": 0
      },
      "text/plain": [
       "Updating weight w/ neighbors:   0%|          | 0/1000 [00:00<?, ?it/s]"
      ]
     },
     "metadata": {},
     "output_type": "display_data"
    },
    {
     "data": {
      "application/vnd.jupyter.widget-view+json": {
       "model_id": "ac892fbb1a8c4ae190450aa62597e50c",
       "version_major": 2,
       "version_minor": 0
      },
      "text/plain": [
       "Updating weight w/ neighbors:   0%|          | 0/1000 [00:00<?, ?it/s]"
      ]
     },
     "metadata": {},
     "output_type": "display_data"
    },
    {
     "name": "stdout",
     "output_type": "stream",
     "text": [
      "----- Iteration 19 -----\n",
      "[2023/05/25 00:07:56]\t Updating spatial affinities\n"
     ]
    },
    {
     "data": {
      "application/vnd.jupyter.widget-view+json": {
       "model_id": "7e6118804cc445889d9d6974a63776d2",
       "version_major": 2,
       "version_minor": 0
      },
      "text/plain": [
       "Updating Σx-1:   0%|          | 0/1000 [00:00<?, ?it/s]"
      ]
     },
     "metadata": {},
     "output_type": "display_data"
    },
    {
     "name": "stdout",
     "output_type": "stream",
     "text": [
      "[2023/05/25 00:07:57]\t Updating metagenes\n"
     ]
    },
    {
     "data": {
      "application/vnd.jupyter.widget-view+json": {
       "model_id": "2b15aa3884d84a84a211f179bdf8ca34",
       "version_major": 2,
       "version_minor": 0
      },
      "text/plain": [
       "Updating M:   0%|          | 0/10000 [00:00<?, ?it/s]"
      ]
     },
     "metadata": {},
     "output_type": "display_data"
    },
    {
     "name": "stdout",
     "output_type": "stream",
     "text": [
      "[2023/05/25 00:07:57]\t Updating sigma_yx\n",
      "[2023/05/25 00:07:58]\t Updating latent states\n"
     ]
    },
    {
     "data": {
      "application/vnd.jupyter.widget-view+json": {
       "model_id": "305b7ce07ca741a2be536ca03cdd697c",
       "version_major": 2,
       "version_minor": 0
      },
      "text/plain": [
       "Updating weight w/ neighbors:   0%|          | 0/1000 [00:00<?, ?it/s]"
      ]
     },
     "metadata": {},
     "output_type": "display_data"
    },
    {
     "data": {
      "application/vnd.jupyter.widget-view+json": {
       "model_id": "e129218af8fb4a26a602615cc6b1f5a7",
       "version_major": 2,
       "version_minor": 0
      },
      "text/plain": [
       "Updating weight w/ neighbors:   0%|          | 0/1000 [00:00<?, ?it/s]"
      ]
     },
     "metadata": {},
     "output_type": "display_data"
    },
    {
     "name": "stdout",
     "output_type": "stream",
     "text": [
      "----- Iteration 20 -----\n",
      "[2023/05/25 00:08:01]\t Updating spatial affinities\n"
     ]
    },
    {
     "data": {
      "application/vnd.jupyter.widget-view+json": {
       "model_id": "ed3b83eac5704b1e82a839bf274d602a",
       "version_major": 2,
       "version_minor": 0
      },
      "text/plain": [
       "Updating Σx-1:   0%|          | 0/1000 [00:00<?, ?it/s]"
      ]
     },
     "metadata": {},
     "output_type": "display_data"
    },
    {
     "name": "stdout",
     "output_type": "stream",
     "text": [
      "[2023/05/25 00:08:02]\t Updating metagenes\n"
     ]
    },
    {
     "data": {
      "application/vnd.jupyter.widget-view+json": {
       "model_id": "2d63e2dcc7804c5ea079f79ca6b4b8e5",
       "version_major": 2,
       "version_minor": 0
      },
      "text/plain": [
       "Updating M:   0%|          | 0/10000 [00:00<?, ?it/s]"
      ]
     },
     "metadata": {},
     "output_type": "display_data"
    },
    {
     "name": "stdout",
     "output_type": "stream",
     "text": [
      "[2023/05/25 00:08:03]\t Updating sigma_yx\n",
      "[2023/05/25 00:08:03]\t Updating latent states\n"
     ]
    },
    {
     "data": {
      "application/vnd.jupyter.widget-view+json": {
       "model_id": "1e11009f70c548389df6833b250c89dc",
       "version_major": 2,
       "version_minor": 0
      },
      "text/plain": [
       "Updating weight w/ neighbors:   0%|          | 0/1000 [00:00<?, ?it/s]"
      ]
     },
     "metadata": {},
     "output_type": "display_data"
    },
    {
     "data": {
      "application/vnd.jupyter.widget-view+json": {
       "model_id": "1645a244b00d474f9ea9ca84d158a6a1",
       "version_major": 2,
       "version_minor": 0
      },
      "text/plain": [
       "Updating weight w/ neighbors:   0%|          | 0/1000 [00:00<?, ?it/s]"
      ]
     },
     "metadata": {},
     "output_type": "display_data"
    },
    {
     "name": "stdout",
     "output_type": "stream",
     "text": [
      "----- Iteration 21 -----\n",
      "[2023/05/25 00:08:06]\t Updating spatial affinities\n"
     ]
    },
    {
     "data": {
      "application/vnd.jupyter.widget-view+json": {
       "model_id": "aec9934a23274b6e99f8a60597e633e5",
       "version_major": 2,
       "version_minor": 0
      },
      "text/plain": [
       "Updating Σx-1:   0%|          | 0/1000 [00:00<?, ?it/s]"
      ]
     },
     "metadata": {},
     "output_type": "display_data"
    },
    {
     "name": "stdout",
     "output_type": "stream",
     "text": [
      "[2023/05/25 00:08:07]\t Updating metagenes\n"
     ]
    },
    {
     "data": {
      "application/vnd.jupyter.widget-view+json": {
       "model_id": "dec6d45800e34b1eb69fb43a3ad9b0f1",
       "version_major": 2,
       "version_minor": 0
      },
      "text/plain": [
       "Updating M:   0%|          | 0/10000 [00:00<?, ?it/s]"
      ]
     },
     "metadata": {},
     "output_type": "display_data"
    },
    {
     "name": "stdout",
     "output_type": "stream",
     "text": [
      "[2023/05/25 00:08:07]\t Updating sigma_yx\n",
      "[2023/05/25 00:08:07]\t Updating latent states\n"
     ]
    },
    {
     "data": {
      "application/vnd.jupyter.widget-view+json": {
       "model_id": "6d2cd46c87584b799e09ea2e035d71fa",
       "version_major": 2,
       "version_minor": 0
      },
      "text/plain": [
       "Updating weight w/ neighbors:   0%|          | 0/1000 [00:00<?, ?it/s]"
      ]
     },
     "metadata": {},
     "output_type": "display_data"
    },
    {
     "data": {
      "application/vnd.jupyter.widget-view+json": {
       "model_id": "bbfc366abcd94c2c8bf8c72b871f5db3",
       "version_major": 2,
       "version_minor": 0
      },
      "text/plain": [
       "Updating weight w/ neighbors:   0%|          | 0/1000 [00:00<?, ?it/s]"
      ]
     },
     "metadata": {},
     "output_type": "display_data"
    },
    {
     "name": "stdout",
     "output_type": "stream",
     "text": [
      "----- Iteration 22 -----\n",
      "[2023/05/25 00:08:11]\t Updating spatial affinities\n"
     ]
    },
    {
     "data": {
      "application/vnd.jupyter.widget-view+json": {
       "model_id": "fcf804ac66994fd7bd5ba0806c8cab9f",
       "version_major": 2,
       "version_minor": 0
      },
      "text/plain": [
       "Updating Σx-1:   0%|          | 0/1000 [00:00<?, ?it/s]"
      ]
     },
     "metadata": {},
     "output_type": "display_data"
    },
    {
     "name": "stdout",
     "output_type": "stream",
     "text": [
      "[2023/05/25 00:08:15]\t Updating metagenes\n"
     ]
    },
    {
     "data": {
      "application/vnd.jupyter.widget-view+json": {
       "model_id": "401d74eecd71493e88dcfee63f37c587",
       "version_major": 2,
       "version_minor": 0
      },
      "text/plain": [
       "Updating M:   0%|          | 0/10000 [00:00<?, ?it/s]"
      ]
     },
     "metadata": {},
     "output_type": "display_data"
    },
    {
     "name": "stdout",
     "output_type": "stream",
     "text": [
      "[2023/05/25 00:08:15]\t Updating sigma_yx\n",
      "[2023/05/25 00:08:16]\t Updating latent states\n"
     ]
    },
    {
     "data": {
      "application/vnd.jupyter.widget-view+json": {
       "model_id": "80e40e245ead4f2480e01068599c7338",
       "version_major": 2,
       "version_minor": 0
      },
      "text/plain": [
       "Updating weight w/ neighbors:   0%|          | 0/1000 [00:00<?, ?it/s]"
      ]
     },
     "metadata": {},
     "output_type": "display_data"
    },
    {
     "data": {
      "application/vnd.jupyter.widget-view+json": {
       "model_id": "19c3e159e623422382355eccd42ce27f",
       "version_major": 2,
       "version_minor": 0
      },
      "text/plain": [
       "Updating weight w/ neighbors:   0%|          | 0/1000 [00:00<?, ?it/s]"
      ]
     },
     "metadata": {},
     "output_type": "display_data"
    },
    {
     "name": "stdout",
     "output_type": "stream",
     "text": [
      "----- Iteration 23 -----\n",
      "[2023/05/25 00:08:19]\t Updating spatial affinities\n"
     ]
    },
    {
     "data": {
      "application/vnd.jupyter.widget-view+json": {
       "model_id": "a95e7c134e914c9ab603d7e789263fd1",
       "version_major": 2,
       "version_minor": 0
      },
      "text/plain": [
       "Updating Σx-1:   0%|          | 0/1000 [00:00<?, ?it/s]"
      ]
     },
     "metadata": {},
     "output_type": "display_data"
    },
    {
     "name": "stdout",
     "output_type": "stream",
     "text": [
      "[2023/05/25 00:08:22]\t Updating metagenes\n"
     ]
    },
    {
     "data": {
      "application/vnd.jupyter.widget-view+json": {
       "model_id": "3d318dd75c1942da801ea2e43c9d58c6",
       "version_major": 2,
       "version_minor": 0
      },
      "text/plain": [
       "Updating M:   0%|          | 0/10000 [00:00<?, ?it/s]"
      ]
     },
     "metadata": {},
     "output_type": "display_data"
    },
    {
     "name": "stdout",
     "output_type": "stream",
     "text": [
      "[2023/05/25 00:08:22]\t Updating sigma_yx\n",
      "[2023/05/25 00:08:22]\t Updating latent states\n"
     ]
    },
    {
     "data": {
      "application/vnd.jupyter.widget-view+json": {
       "model_id": "dc47256a671d433680c2e30d66662601",
       "version_major": 2,
       "version_minor": 0
      },
      "text/plain": [
       "Updating weight w/ neighbors:   0%|          | 0/1000 [00:00<?, ?it/s]"
      ]
     },
     "metadata": {},
     "output_type": "display_data"
    },
    {
     "data": {
      "application/vnd.jupyter.widget-view+json": {
       "model_id": "10c9e87b2ed9485e99b74a254f8f81f2",
       "version_major": 2,
       "version_minor": 0
      },
      "text/plain": [
       "Updating weight w/ neighbors:   0%|          | 0/1000 [00:00<?, ?it/s]"
      ]
     },
     "metadata": {},
     "output_type": "display_data"
    },
    {
     "name": "stdout",
     "output_type": "stream",
     "text": [
      "----- Iteration 24 -----\n",
      "[2023/05/25 00:08:25]\t Updating spatial affinities\n"
     ]
    },
    {
     "data": {
      "application/vnd.jupyter.widget-view+json": {
       "model_id": "0a13a6c543b94a6b9715bd41ae2a94e4",
       "version_major": 2,
       "version_minor": 0
      },
      "text/plain": [
       "Updating Σx-1:   0%|          | 0/1000 [00:00<?, ?it/s]"
      ]
     },
     "metadata": {},
     "output_type": "display_data"
    },
    {
     "name": "stdout",
     "output_type": "stream",
     "text": [
      "[2023/05/25 00:08:26]\t Updating metagenes\n"
     ]
    },
    {
     "data": {
      "application/vnd.jupyter.widget-view+json": {
       "model_id": "74af47f30a424f42954c003805977111",
       "version_major": 2,
       "version_minor": 0
      },
      "text/plain": [
       "Updating M:   0%|          | 0/10000 [00:00<?, ?it/s]"
      ]
     },
     "metadata": {},
     "output_type": "display_data"
    },
    {
     "name": "stdout",
     "output_type": "stream",
     "text": [
      "[2023/05/25 00:08:27]\t Updating sigma_yx\n",
      "[2023/05/25 00:08:27]\t Updating latent states\n"
     ]
    },
    {
     "data": {
      "application/vnd.jupyter.widget-view+json": {
       "model_id": "c39f2f844663413cafab76ec641bb83d",
       "version_major": 2,
       "version_minor": 0
      },
      "text/plain": [
       "Updating weight w/ neighbors:   0%|          | 0/1000 [00:00<?, ?it/s]"
      ]
     },
     "metadata": {},
     "output_type": "display_data"
    },
    {
     "data": {
      "application/vnd.jupyter.widget-view+json": {
       "model_id": "3bb5e0584bfe447a8085fb245200ab97",
       "version_major": 2,
       "version_minor": 0
      },
      "text/plain": [
       "Updating weight w/ neighbors:   0%|          | 0/1000 [00:00<?, ?it/s]"
      ]
     },
     "metadata": {},
     "output_type": "display_data"
    },
    {
     "name": "stdout",
     "output_type": "stream",
     "text": [
      "----- Iteration 25 -----\n",
      "[2023/05/25 00:08:30]\t Updating spatial affinities\n"
     ]
    },
    {
     "data": {
      "application/vnd.jupyter.widget-view+json": {
       "model_id": "2551b52ce7664da4b2af82032a207f4e",
       "version_major": 2,
       "version_minor": 0
      },
      "text/plain": [
       "Updating Σx-1:   0%|          | 0/1000 [00:00<?, ?it/s]"
      ]
     },
     "metadata": {},
     "output_type": "display_data"
    },
    {
     "name": "stdout",
     "output_type": "stream",
     "text": [
      "[2023/05/25 00:08:31]\t Updating metagenes\n"
     ]
    },
    {
     "data": {
      "application/vnd.jupyter.widget-view+json": {
       "model_id": "4960574267ec4c3ba0436311818bd127",
       "version_major": 2,
       "version_minor": 0
      },
      "text/plain": [
       "Updating M:   0%|          | 0/10000 [00:00<?, ?it/s]"
      ]
     },
     "metadata": {},
     "output_type": "display_data"
    },
    {
     "name": "stdout",
     "output_type": "stream",
     "text": [
      "[2023/05/25 00:08:31]\t Updating sigma_yx\n",
      "[2023/05/25 00:08:31]\t Updating latent states\n"
     ]
    },
    {
     "data": {
      "application/vnd.jupyter.widget-view+json": {
       "model_id": "3912c688dc59423bbc51520297243af9",
       "version_major": 2,
       "version_minor": 0
      },
      "text/plain": [
       "Updating weight w/ neighbors:   0%|          | 0/1000 [00:00<?, ?it/s]"
      ]
     },
     "metadata": {},
     "output_type": "display_data"
    },
    {
     "data": {
      "application/vnd.jupyter.widget-view+json": {
       "model_id": "12b72730898e4fecb958a4b4a77c06ca",
       "version_major": 2,
       "version_minor": 0
      },
      "text/plain": [
       "Updating weight w/ neighbors:   0%|          | 0/1000 [00:00<?, ?it/s]"
      ]
     },
     "metadata": {},
     "output_type": "display_data"
    },
    {
     "name": "stdout",
     "output_type": "stream",
     "text": [
      "----- Iteration 26 -----\n",
      "[2023/05/25 00:08:34]\t Updating spatial affinities\n"
     ]
    },
    {
     "data": {
      "application/vnd.jupyter.widget-view+json": {
       "model_id": "531e68f2f4724bc48c3335618e982483",
       "version_major": 2,
       "version_minor": 0
      },
      "text/plain": [
       "Updating Σx-1:   0%|          | 0/1000 [00:00<?, ?it/s]"
      ]
     },
     "metadata": {},
     "output_type": "display_data"
    },
    {
     "name": "stdout",
     "output_type": "stream",
     "text": [
      "[2023/05/25 00:08:36]\t Updating metagenes\n"
     ]
    },
    {
     "data": {
      "application/vnd.jupyter.widget-view+json": {
       "model_id": "831543090a784d42a187d57d2409352c",
       "version_major": 2,
       "version_minor": 0
      },
      "text/plain": [
       "Updating M:   0%|          | 0/10000 [00:00<?, ?it/s]"
      ]
     },
     "metadata": {},
     "output_type": "display_data"
    },
    {
     "name": "stdout",
     "output_type": "stream",
     "text": [
      "[2023/05/25 00:08:37]\t Updating sigma_yx\n",
      "[2023/05/25 00:08:37]\t Updating latent states\n"
     ]
    },
    {
     "data": {
      "application/vnd.jupyter.widget-view+json": {
       "model_id": "251efdb6b6d8496cae3992dc0ffbe6d3",
       "version_major": 2,
       "version_minor": 0
      },
      "text/plain": [
       "Updating weight w/ neighbors:   0%|          | 0/1000 [00:00<?, ?it/s]"
      ]
     },
     "metadata": {},
     "output_type": "display_data"
    },
    {
     "data": {
      "application/vnd.jupyter.widget-view+json": {
       "model_id": "a079f4439d1b4a5ebc1b6d56a5639ab9",
       "version_major": 2,
       "version_minor": 0
      },
      "text/plain": [
       "Updating weight w/ neighbors:   0%|          | 0/1000 [00:00<?, ?it/s]"
      ]
     },
     "metadata": {},
     "output_type": "display_data"
    },
    {
     "name": "stdout",
     "output_type": "stream",
     "text": [
      "----- Iteration 27 -----\n",
      "[2023/05/25 00:08:40]\t Updating spatial affinities\n"
     ]
    },
    {
     "data": {
      "application/vnd.jupyter.widget-view+json": {
       "model_id": "4fed111a0089460d9a29730ce1f9d22c",
       "version_major": 2,
       "version_minor": 0
      },
      "text/plain": [
       "Updating Σx-1:   0%|          | 0/1000 [00:00<?, ?it/s]"
      ]
     },
     "metadata": {},
     "output_type": "display_data"
    },
    {
     "name": "stdout",
     "output_type": "stream",
     "text": [
      "[2023/05/25 00:08:41]\t Updating metagenes\n"
     ]
    },
    {
     "data": {
      "application/vnd.jupyter.widget-view+json": {
       "model_id": "bbdc4192481942c7938a0c4775b2ed91",
       "version_major": 2,
       "version_minor": 0
      },
      "text/plain": [
       "Updating M:   0%|          | 0/10000 [00:00<?, ?it/s]"
      ]
     },
     "metadata": {},
     "output_type": "display_data"
    },
    {
     "name": "stdout",
     "output_type": "stream",
     "text": [
      "[2023/05/25 00:08:41]\t Updating sigma_yx\n",
      "[2023/05/25 00:08:42]\t Updating latent states\n"
     ]
    },
    {
     "data": {
      "application/vnd.jupyter.widget-view+json": {
       "model_id": "f053336336ba42109bd8db6ed728e2f7",
       "version_major": 2,
       "version_minor": 0
      },
      "text/plain": [
       "Updating weight w/ neighbors:   0%|          | 0/1000 [00:00<?, ?it/s]"
      ]
     },
     "metadata": {},
     "output_type": "display_data"
    },
    {
     "data": {
      "application/vnd.jupyter.widget-view+json": {
       "model_id": "6156007dfe9d4347ab7a7eff3fdc4f76",
       "version_major": 2,
       "version_minor": 0
      },
      "text/plain": [
       "Updating weight w/ neighbors:   0%|          | 0/1000 [00:00<?, ?it/s]"
      ]
     },
     "metadata": {},
     "output_type": "display_data"
    },
    {
     "name": "stdout",
     "output_type": "stream",
     "text": [
      "----- Iteration 28 -----\n",
      "[2023/05/25 00:08:45]\t Updating spatial affinities\n"
     ]
    },
    {
     "data": {
      "application/vnd.jupyter.widget-view+json": {
       "model_id": "192183ec788e484a8479ead8baf54f04",
       "version_major": 2,
       "version_minor": 0
      },
      "text/plain": [
       "Updating Σx-1:   0%|          | 0/1000 [00:00<?, ?it/s]"
      ]
     },
     "metadata": {},
     "output_type": "display_data"
    },
    {
     "name": "stdout",
     "output_type": "stream",
     "text": [
      "[2023/05/25 00:08:47]\t Updating metagenes\n"
     ]
    },
    {
     "data": {
      "application/vnd.jupyter.widget-view+json": {
       "model_id": "23a4287391104761b5e38ab6443df400",
       "version_major": 2,
       "version_minor": 0
      },
      "text/plain": [
       "Updating M:   0%|          | 0/10000 [00:00<?, ?it/s]"
      ]
     },
     "metadata": {},
     "output_type": "display_data"
    },
    {
     "name": "stdout",
     "output_type": "stream",
     "text": [
      "[2023/05/25 00:08:47]\t Updating sigma_yx\n",
      "[2023/05/25 00:08:47]\t Updating latent states\n"
     ]
    },
    {
     "data": {
      "application/vnd.jupyter.widget-view+json": {
       "model_id": "9e5e5db78d454db4aa307f06506be5bf",
       "version_major": 2,
       "version_minor": 0
      },
      "text/plain": [
       "Updating weight w/ neighbors:   0%|          | 0/1000 [00:00<?, ?it/s]"
      ]
     },
     "metadata": {},
     "output_type": "display_data"
    },
    {
     "data": {
      "application/vnd.jupyter.widget-view+json": {
       "model_id": "36814d139fc744aeadee61f54927fab6",
       "version_major": 2,
       "version_minor": 0
      },
      "text/plain": [
       "Updating weight w/ neighbors:   0%|          | 0/1000 [00:00<?, ?it/s]"
      ]
     },
     "metadata": {},
     "output_type": "display_data"
    },
    {
     "name": "stdout",
     "output_type": "stream",
     "text": [
      "----- Iteration 29 -----\n",
      "[2023/05/25 00:08:50]\t Updating spatial affinities\n"
     ]
    },
    {
     "data": {
      "application/vnd.jupyter.widget-view+json": {
       "model_id": "4138240ff5fd4f7aa62531b70e864746",
       "version_major": 2,
       "version_minor": 0
      },
      "text/plain": [
       "Updating Σx-1:   0%|          | 0/1000 [00:00<?, ?it/s]"
      ]
     },
     "metadata": {},
     "output_type": "display_data"
    },
    {
     "name": "stdout",
     "output_type": "stream",
     "text": [
      "[2023/05/25 00:08:52]\t Updating metagenes\n"
     ]
    },
    {
     "data": {
      "application/vnd.jupyter.widget-view+json": {
       "model_id": "8bdf9186e3534bcaa9d1b4e844c83e07",
       "version_major": 2,
       "version_minor": 0
      },
      "text/plain": [
       "Updating M:   0%|          | 0/10000 [00:00<?, ?it/s]"
      ]
     },
     "metadata": {},
     "output_type": "display_data"
    },
    {
     "name": "stdout",
     "output_type": "stream",
     "text": [
      "[2023/05/25 00:08:52]\t Updating sigma_yx\n",
      "[2023/05/25 00:08:52]\t Updating latent states\n"
     ]
    },
    {
     "data": {
      "application/vnd.jupyter.widget-view+json": {
       "model_id": "0011b1e7a32a4325ac2f800384200768",
       "version_major": 2,
       "version_minor": 0
      },
      "text/plain": [
       "Updating weight w/ neighbors:   0%|          | 0/1000 [00:00<?, ?it/s]"
      ]
     },
     "metadata": {},
     "output_type": "display_data"
    },
    {
     "data": {
      "application/vnd.jupyter.widget-view+json": {
       "model_id": "aecb0bf242394238bd71cafbab702fef",
       "version_major": 2,
       "version_minor": 0
      },
      "text/plain": [
       "Updating weight w/ neighbors:   0%|          | 0/1000 [00:00<?, ?it/s]"
      ]
     },
     "metadata": {},
     "output_type": "display_data"
    },
    {
     "name": "stdout",
     "output_type": "stream",
     "text": [
      "----- Iteration 30 -----\n",
      "[2023/05/25 00:08:55]\t Updating spatial affinities\n"
     ]
    },
    {
     "data": {
      "application/vnd.jupyter.widget-view+json": {
       "model_id": "f22106c1e24d4de6a7bdc9d4f55419be",
       "version_major": 2,
       "version_minor": 0
      },
      "text/plain": [
       "Updating Σx-1:   0%|          | 0/1000 [00:00<?, ?it/s]"
      ]
     },
     "metadata": {},
     "output_type": "display_data"
    },
    {
     "name": "stdout",
     "output_type": "stream",
     "text": [
      "[2023/05/25 00:08:57]\t Updating metagenes\n"
     ]
    },
    {
     "data": {
      "application/vnd.jupyter.widget-view+json": {
       "model_id": "89a3b1477ca846d9b2cb5ca50cd563a1",
       "version_major": 2,
       "version_minor": 0
      },
      "text/plain": [
       "Updating M:   0%|          | 0/10000 [00:00<?, ?it/s]"
      ]
     },
     "metadata": {},
     "output_type": "display_data"
    },
    {
     "name": "stdout",
     "output_type": "stream",
     "text": [
      "[2023/05/25 00:08:57]\t Updating sigma_yx\n",
      "[2023/05/25 00:08:57]\t Updating latent states\n"
     ]
    },
    {
     "data": {
      "application/vnd.jupyter.widget-view+json": {
       "model_id": "aef6a1d9edc348a88892adb73dc58f1a",
       "version_major": 2,
       "version_minor": 0
      },
      "text/plain": [
       "Updating weight w/ neighbors:   0%|          | 0/1000 [00:00<?, ?it/s]"
      ]
     },
     "metadata": {},
     "output_type": "display_data"
    },
    {
     "data": {
      "application/vnd.jupyter.widget-view+json": {
       "model_id": "09a0a63683f94e429302a02cf01c5787",
       "version_major": 2,
       "version_minor": 0
      },
      "text/plain": [
       "Updating weight w/ neighbors:   0%|          | 0/1000 [00:00<?, ?it/s]"
      ]
     },
     "metadata": {},
     "output_type": "display_data"
    },
    {
     "name": "stdout",
     "output_type": "stream",
     "text": [
      "----- Iteration 31 -----\n",
      "[2023/05/25 00:08:59]\t Updating spatial affinities\n"
     ]
    },
    {
     "data": {
      "application/vnd.jupyter.widget-view+json": {
       "model_id": "91494da5005244448ce5bee52fa87483",
       "version_major": 2,
       "version_minor": 0
      },
      "text/plain": [
       "Updating Σx-1:   0%|          | 0/1000 [00:00<?, ?it/s]"
      ]
     },
     "metadata": {},
     "output_type": "display_data"
    },
    {
     "name": "stdout",
     "output_type": "stream",
     "text": [
      "[2023/05/25 00:09:01]\t Updating metagenes\n"
     ]
    },
    {
     "data": {
      "application/vnd.jupyter.widget-view+json": {
       "model_id": "7568d7c2eb0f4456a8d04aab1951a865",
       "version_major": 2,
       "version_minor": 0
      },
      "text/plain": [
       "Updating M:   0%|          | 0/10000 [00:00<?, ?it/s]"
      ]
     },
     "metadata": {},
     "output_type": "display_data"
    },
    {
     "name": "stdout",
     "output_type": "stream",
     "text": [
      "[2023/05/25 00:09:01]\t Updating sigma_yx\n",
      "[2023/05/25 00:09:01]\t Updating latent states\n"
     ]
    },
    {
     "data": {
      "application/vnd.jupyter.widget-view+json": {
       "model_id": "48dde17572f54c96ab28ff61775cfc03",
       "version_major": 2,
       "version_minor": 0
      },
      "text/plain": [
       "Updating weight w/ neighbors:   0%|          | 0/1000 [00:00<?, ?it/s]"
      ]
     },
     "metadata": {},
     "output_type": "display_data"
    },
    {
     "data": {
      "application/vnd.jupyter.widget-view+json": {
       "model_id": "417256399a904305a7593ca6111e96f6",
       "version_major": 2,
       "version_minor": 0
      },
      "text/plain": [
       "Updating weight w/ neighbors:   0%|          | 0/1000 [00:00<?, ?it/s]"
      ]
     },
     "metadata": {},
     "output_type": "display_data"
    },
    {
     "name": "stdout",
     "output_type": "stream",
     "text": [
      "----- Iteration 32 -----\n",
      "[2023/05/25 00:09:03]\t Updating spatial affinities\n"
     ]
    },
    {
     "data": {
      "application/vnd.jupyter.widget-view+json": {
       "model_id": "bcc6335a8b51478294d1405f1b13ecc8",
       "version_major": 2,
       "version_minor": 0
      },
      "text/plain": [
       "Updating Σx-1:   0%|          | 0/1000 [00:00<?, ?it/s]"
      ]
     },
     "metadata": {},
     "output_type": "display_data"
    },
    {
     "name": "stdout",
     "output_type": "stream",
     "text": [
      "[2023/05/25 00:09:05]\t Updating metagenes\n"
     ]
    },
    {
     "data": {
      "application/vnd.jupyter.widget-view+json": {
       "model_id": "e4dc81b298c14ddca0eefdda625ac4d1",
       "version_major": 2,
       "version_minor": 0
      },
      "text/plain": [
       "Updating M:   0%|          | 0/10000 [00:00<?, ?it/s]"
      ]
     },
     "metadata": {},
     "output_type": "display_data"
    },
    {
     "name": "stdout",
     "output_type": "stream",
     "text": [
      "[2023/05/25 00:09:05]\t Updating sigma_yx\n",
      "[2023/05/25 00:09:05]\t Updating latent states\n"
     ]
    },
    {
     "data": {
      "application/vnd.jupyter.widget-view+json": {
       "model_id": "ae4c59b6ffcf4d4c96f4996b4c6dd204",
       "version_major": 2,
       "version_minor": 0
      },
      "text/plain": [
       "Updating weight w/ neighbors:   0%|          | 0/1000 [00:00<?, ?it/s]"
      ]
     },
     "metadata": {},
     "output_type": "display_data"
    },
    {
     "data": {
      "application/vnd.jupyter.widget-view+json": {
       "model_id": "b5ab5203eab04c26b1bb7639d7b1f752",
       "version_major": 2,
       "version_minor": 0
      },
      "text/plain": [
       "Updating weight w/ neighbors:   0%|          | 0/1000 [00:00<?, ?it/s]"
      ]
     },
     "metadata": {},
     "output_type": "display_data"
    },
    {
     "name": "stdout",
     "output_type": "stream",
     "text": [
      "----- Iteration 33 -----\n",
      "[2023/05/25 00:09:08]\t Updating spatial affinities\n"
     ]
    },
    {
     "data": {
      "application/vnd.jupyter.widget-view+json": {
       "model_id": "40bc09b4bc124ffa9dedea7ed169ff93",
       "version_major": 2,
       "version_minor": 0
      },
      "text/plain": [
       "Updating Σx-1:   0%|          | 0/1000 [00:00<?, ?it/s]"
      ]
     },
     "metadata": {},
     "output_type": "display_data"
    },
    {
     "name": "stdout",
     "output_type": "stream",
     "text": [
      "[2023/05/25 00:09:11]\t Updating metagenes\n"
     ]
    },
    {
     "data": {
      "application/vnd.jupyter.widget-view+json": {
       "model_id": "2d44794da3404bab90d9295f71171103",
       "version_major": 2,
       "version_minor": 0
      },
      "text/plain": [
       "Updating M:   0%|          | 0/10000 [00:00<?, ?it/s]"
      ]
     },
     "metadata": {},
     "output_type": "display_data"
    },
    {
     "name": "stdout",
     "output_type": "stream",
     "text": [
      "[2023/05/25 00:09:11]\t Updating sigma_yx\n",
      "[2023/05/25 00:09:11]\t Updating latent states\n"
     ]
    },
    {
     "data": {
      "application/vnd.jupyter.widget-view+json": {
       "model_id": "643339ba6f3a46379bfdc73c64f992a6",
       "version_major": 2,
       "version_minor": 0
      },
      "text/plain": [
       "Updating weight w/ neighbors:   0%|          | 0/1000 [00:00<?, ?it/s]"
      ]
     },
     "metadata": {},
     "output_type": "display_data"
    },
    {
     "data": {
      "application/vnd.jupyter.widget-view+json": {
       "model_id": "34c50c29cc57405797449093ba97dacd",
       "version_major": 2,
       "version_minor": 0
      },
      "text/plain": [
       "Updating weight w/ neighbors:   0%|          | 0/1000 [00:00<?, ?it/s]"
      ]
     },
     "metadata": {},
     "output_type": "display_data"
    },
    {
     "name": "stdout",
     "output_type": "stream",
     "text": [
      "----- Iteration 34 -----\n",
      "[2023/05/25 00:09:15]\t Updating spatial affinities\n"
     ]
    },
    {
     "data": {
      "application/vnd.jupyter.widget-view+json": {
       "model_id": "db5362d5801e47fa92f68a29694703af",
       "version_major": 2,
       "version_minor": 0
      },
      "text/plain": [
       "Updating Σx-1:   0%|          | 0/1000 [00:00<?, ?it/s]"
      ]
     },
     "metadata": {},
     "output_type": "display_data"
    },
    {
     "name": "stdout",
     "output_type": "stream",
     "text": [
      "[2023/05/25 00:09:16]\t Updating metagenes\n"
     ]
    },
    {
     "data": {
      "application/vnd.jupyter.widget-view+json": {
       "model_id": "19edb10305f247db8ea08ba83af74cc9",
       "version_major": 2,
       "version_minor": 0
      },
      "text/plain": [
       "Updating M:   0%|          | 0/10000 [00:00<?, ?it/s]"
      ]
     },
     "metadata": {},
     "output_type": "display_data"
    },
    {
     "name": "stdout",
     "output_type": "stream",
     "text": [
      "[2023/05/25 00:09:16]\t Updating sigma_yx\n",
      "[2023/05/25 00:09:17]\t Updating latent states\n"
     ]
    },
    {
     "data": {
      "application/vnd.jupyter.widget-view+json": {
       "model_id": "f3aa333608e9408190c6ed22309eb956",
       "version_major": 2,
       "version_minor": 0
      },
      "text/plain": [
       "Updating weight w/ neighbors:   0%|          | 0/1000 [00:00<?, ?it/s]"
      ]
     },
     "metadata": {},
     "output_type": "display_data"
    },
    {
     "data": {
      "application/vnd.jupyter.widget-view+json": {
       "model_id": "1fa5668bbb7648beafeaab02bacf24a2",
       "version_major": 2,
       "version_minor": 0
      },
      "text/plain": [
       "Updating weight w/ neighbors:   0%|          | 0/1000 [00:00<?, ?it/s]"
      ]
     },
     "metadata": {},
     "output_type": "display_data"
    },
    {
     "name": "stdout",
     "output_type": "stream",
     "text": [
      "----- Iteration 35 -----\n",
      "[2023/05/25 00:09:19]\t Updating spatial affinities\n"
     ]
    },
    {
     "data": {
      "application/vnd.jupyter.widget-view+json": {
       "model_id": "1af334c838eb43098391aec1008778c3",
       "version_major": 2,
       "version_minor": 0
      },
      "text/plain": [
       "Updating Σx-1:   0%|          | 0/1000 [00:00<?, ?it/s]"
      ]
     },
     "metadata": {},
     "output_type": "display_data"
    },
    {
     "name": "stdout",
     "output_type": "stream",
     "text": [
      "[2023/05/25 00:09:21]\t Updating metagenes\n"
     ]
    },
    {
     "data": {
      "application/vnd.jupyter.widget-view+json": {
       "model_id": "eefb1514880a402abada9a73651db211",
       "version_major": 2,
       "version_minor": 0
      },
      "text/plain": [
       "Updating M:   0%|          | 0/10000 [00:00<?, ?it/s]"
      ]
     },
     "metadata": {},
     "output_type": "display_data"
    },
    {
     "name": "stdout",
     "output_type": "stream",
     "text": [
      "[2023/05/25 00:09:21]\t Updating sigma_yx\n",
      "[2023/05/25 00:09:21]\t Updating latent states\n"
     ]
    },
    {
     "data": {
      "application/vnd.jupyter.widget-view+json": {
       "model_id": "a31ca336884546f9b4924bae6a78fb0e",
       "version_major": 2,
       "version_minor": 0
      },
      "text/plain": [
       "Updating weight w/ neighbors:   0%|          | 0/1000 [00:00<?, ?it/s]"
      ]
     },
     "metadata": {},
     "output_type": "display_data"
    },
    {
     "data": {
      "application/vnd.jupyter.widget-view+json": {
       "model_id": "5a7797ac03d84f22bb3f5c2f5b8e7643",
       "version_major": 2,
       "version_minor": 0
      },
      "text/plain": [
       "Updating weight w/ neighbors:   0%|          | 0/1000 [00:00<?, ?it/s]"
      ]
     },
     "metadata": {},
     "output_type": "display_data"
    },
    {
     "name": "stdout",
     "output_type": "stream",
     "text": [
      "----- Iteration 36 -----\n",
      "[2023/05/25 00:09:24]\t Updating spatial affinities\n"
     ]
    },
    {
     "data": {
      "application/vnd.jupyter.widget-view+json": {
       "model_id": "3d1d56779bd44634850bb0daffb4ec15",
       "version_major": 2,
       "version_minor": 0
      },
      "text/plain": [
       "Updating Σx-1:   0%|          | 0/1000 [00:00<?, ?it/s]"
      ]
     },
     "metadata": {},
     "output_type": "display_data"
    },
    {
     "name": "stdout",
     "output_type": "stream",
     "text": [
      "[2023/05/25 00:09:27]\t Updating metagenes\n"
     ]
    },
    {
     "data": {
      "application/vnd.jupyter.widget-view+json": {
       "model_id": "8a21ea6427b24f99957ce07b08fba70f",
       "version_major": 2,
       "version_minor": 0
      },
      "text/plain": [
       "Updating M:   0%|          | 0/10000 [00:00<?, ?it/s]"
      ]
     },
     "metadata": {},
     "output_type": "display_data"
    },
    {
     "name": "stdout",
     "output_type": "stream",
     "text": [
      "[2023/05/25 00:09:27]\t Updating sigma_yx\n",
      "[2023/05/25 00:09:27]\t Updating latent states\n"
     ]
    },
    {
     "data": {
      "application/vnd.jupyter.widget-view+json": {
       "model_id": "9490a233423f478484da75b9ddf0419b",
       "version_major": 2,
       "version_minor": 0
      },
      "text/plain": [
       "Updating weight w/ neighbors:   0%|          | 0/1000 [00:00<?, ?it/s]"
      ]
     },
     "metadata": {},
     "output_type": "display_data"
    },
    {
     "data": {
      "application/vnd.jupyter.widget-view+json": {
       "model_id": "9b9e6b246d7e47379e34da1ecdebbd20",
       "version_major": 2,
       "version_minor": 0
      },
      "text/plain": [
       "Updating weight w/ neighbors:   0%|          | 0/1000 [00:00<?, ?it/s]"
      ]
     },
     "metadata": {},
     "output_type": "display_data"
    },
    {
     "name": "stdout",
     "output_type": "stream",
     "text": [
      "----- Iteration 37 -----\n",
      "[2023/05/25 00:09:30]\t Updating spatial affinities\n"
     ]
    },
    {
     "data": {
      "application/vnd.jupyter.widget-view+json": {
       "model_id": "d80e490f56b944cfa1b629a0b231c3e2",
       "version_major": 2,
       "version_minor": 0
      },
      "text/plain": [
       "Updating Σx-1:   0%|          | 0/1000 [00:00<?, ?it/s]"
      ]
     },
     "metadata": {},
     "output_type": "display_data"
    },
    {
     "name": "stdout",
     "output_type": "stream",
     "text": [
      "[2023/05/25 00:09:33]\t Updating metagenes\n"
     ]
    },
    {
     "data": {
      "application/vnd.jupyter.widget-view+json": {
       "model_id": "098840e7078140fcabf1fcb664791942",
       "version_major": 2,
       "version_minor": 0
      },
      "text/plain": [
       "Updating M:   0%|          | 0/10000 [00:00<?, ?it/s]"
      ]
     },
     "metadata": {},
     "output_type": "display_data"
    },
    {
     "name": "stdout",
     "output_type": "stream",
     "text": [
      "[2023/05/25 00:09:33]\t Updating sigma_yx\n",
      "[2023/05/25 00:09:33]\t Updating latent states\n"
     ]
    },
    {
     "data": {
      "application/vnd.jupyter.widget-view+json": {
       "model_id": "f3b8941619214165a11bc20813f97471",
       "version_major": 2,
       "version_minor": 0
      },
      "text/plain": [
       "Updating weight w/ neighbors:   0%|          | 0/1000 [00:00<?, ?it/s]"
      ]
     },
     "metadata": {},
     "output_type": "display_data"
    },
    {
     "data": {
      "application/vnd.jupyter.widget-view+json": {
       "model_id": "58024e911385464ebbcc40e86c81f983",
       "version_major": 2,
       "version_minor": 0
      },
      "text/plain": [
       "Updating weight w/ neighbors:   0%|          | 0/1000 [00:00<?, ?it/s]"
      ]
     },
     "metadata": {},
     "output_type": "display_data"
    },
    {
     "name": "stdout",
     "output_type": "stream",
     "text": [
      "----- Iteration 38 -----\n",
      "[2023/05/25 00:09:36]\t Updating spatial affinities\n"
     ]
    },
    {
     "data": {
      "application/vnd.jupyter.widget-view+json": {
       "model_id": "b92b39c1f62e44098fdfcf5792a4d204",
       "version_major": 2,
       "version_minor": 0
      },
      "text/plain": [
       "Updating Σx-1:   0%|          | 0/1000 [00:00<?, ?it/s]"
      ]
     },
     "metadata": {},
     "output_type": "display_data"
    },
    {
     "name": "stdout",
     "output_type": "stream",
     "text": [
      "[2023/05/25 00:09:38]\t Updating metagenes\n"
     ]
    },
    {
     "data": {
      "application/vnd.jupyter.widget-view+json": {
       "model_id": "ef4c6f62cae244618400805bedd7472d",
       "version_major": 2,
       "version_minor": 0
      },
      "text/plain": [
       "Updating M:   0%|          | 0/10000 [00:00<?, ?it/s]"
      ]
     },
     "metadata": {},
     "output_type": "display_data"
    },
    {
     "name": "stdout",
     "output_type": "stream",
     "text": [
      "[2023/05/25 00:09:39]\t Updating sigma_yx\n",
      "[2023/05/25 00:09:39]\t Updating latent states\n"
     ]
    },
    {
     "data": {
      "application/vnd.jupyter.widget-view+json": {
       "model_id": "1f52fbfcc0a94ba285f0cc2fbb932363",
       "version_major": 2,
       "version_minor": 0
      },
      "text/plain": [
       "Updating weight w/ neighbors:   0%|          | 0/1000 [00:00<?, ?it/s]"
      ]
     },
     "metadata": {},
     "output_type": "display_data"
    },
    {
     "data": {
      "application/vnd.jupyter.widget-view+json": {
       "model_id": "07ae9f301eb74e528d85f506432ef570",
       "version_major": 2,
       "version_minor": 0
      },
      "text/plain": [
       "Updating weight w/ neighbors:   0%|          | 0/1000 [00:00<?, ?it/s]"
      ]
     },
     "metadata": {},
     "output_type": "display_data"
    },
    {
     "name": "stdout",
     "output_type": "stream",
     "text": [
      "----- Iteration 39 -----\n",
      "[2023/05/25 00:09:41]\t Updating spatial affinities\n"
     ]
    },
    {
     "data": {
      "application/vnd.jupyter.widget-view+json": {
       "model_id": "05767bb5a0d74000aa921c1c6bbe9d75",
       "version_major": 2,
       "version_minor": 0
      },
      "text/plain": [
       "Updating Σx-1:   0%|          | 0/1000 [00:00<?, ?it/s]"
      ]
     },
     "metadata": {},
     "output_type": "display_data"
    },
    {
     "name": "stdout",
     "output_type": "stream",
     "text": [
      "[2023/05/25 00:09:43]\t Updating metagenes\n"
     ]
    },
    {
     "data": {
      "application/vnd.jupyter.widget-view+json": {
       "model_id": "07d2d5bf29a14dfa88e390c1c5429719",
       "version_major": 2,
       "version_minor": 0
      },
      "text/plain": [
       "Updating M:   0%|          | 0/10000 [00:00<?, ?it/s]"
      ]
     },
     "metadata": {},
     "output_type": "display_data"
    },
    {
     "name": "stdout",
     "output_type": "stream",
     "text": [
      "[2023/05/25 00:09:43]\t Updating sigma_yx\n",
      "[2023/05/25 00:09:43]\t Updating latent states\n"
     ]
    },
    {
     "data": {
      "application/vnd.jupyter.widget-view+json": {
       "model_id": "c2d08f0a087f4ef09fca591473588e5e",
       "version_major": 2,
       "version_minor": 0
      },
      "text/plain": [
       "Updating weight w/ neighbors:   0%|          | 0/1000 [00:00<?, ?it/s]"
      ]
     },
     "metadata": {},
     "output_type": "display_data"
    },
    {
     "data": {
      "application/vnd.jupyter.widget-view+json": {
       "model_id": "86574b156f5142e2838bae31ac44f40c",
       "version_major": 2,
       "version_minor": 0
      },
      "text/plain": [
       "Updating weight w/ neighbors:   0%|          | 0/1000 [00:00<?, ?it/s]"
      ]
     },
     "metadata": {},
     "output_type": "display_data"
    },
    {
     "name": "stdout",
     "output_type": "stream",
     "text": [
      "----- Iteration 40 -----\n",
      "[2023/05/25 00:09:46]\t Updating spatial affinities\n"
     ]
    },
    {
     "data": {
      "application/vnd.jupyter.widget-view+json": {
       "model_id": "f83fcb5b53254f47abd78afdf28cb8b1",
       "version_major": 2,
       "version_minor": 0
      },
      "text/plain": [
       "Updating Σx-1:   0%|          | 0/1000 [00:00<?, ?it/s]"
      ]
     },
     "metadata": {},
     "output_type": "display_data"
    },
    {
     "name": "stdout",
     "output_type": "stream",
     "text": [
      "[2023/05/25 00:09:48]\t Updating metagenes\n"
     ]
    },
    {
     "data": {
      "application/vnd.jupyter.widget-view+json": {
       "model_id": "ac018aadc6db484580b6faea6f8d3d34",
       "version_major": 2,
       "version_minor": 0
      },
      "text/plain": [
       "Updating M:   0%|          | 0/10000 [00:00<?, ?it/s]"
      ]
     },
     "metadata": {},
     "output_type": "display_data"
    },
    {
     "name": "stdout",
     "output_type": "stream",
     "text": [
      "[2023/05/25 00:09:48]\t Updating sigma_yx\n",
      "[2023/05/25 00:09:48]\t Updating latent states\n"
     ]
    },
    {
     "data": {
      "application/vnd.jupyter.widget-view+json": {
       "model_id": "f85ff82897ee43e3b3f874fbb6bf277a",
       "version_major": 2,
       "version_minor": 0
      },
      "text/plain": [
       "Updating weight w/ neighbors:   0%|          | 0/1000 [00:00<?, ?it/s]"
      ]
     },
     "metadata": {},
     "output_type": "display_data"
    },
    {
     "data": {
      "application/vnd.jupyter.widget-view+json": {
       "model_id": "8c88eee060eb401a95a7d3483d3d9035",
       "version_major": 2,
       "version_minor": 0
      },
      "text/plain": [
       "Updating weight w/ neighbors:   0%|          | 0/1000 [00:00<?, ?it/s]"
      ]
     },
     "metadata": {},
     "output_type": "display_data"
    },
    {
     "name": "stdout",
     "output_type": "stream",
     "text": [
      "----- Iteration 41 -----\n",
      "[2023/05/25 00:09:50]\t Updating spatial affinities\n"
     ]
    },
    {
     "data": {
      "application/vnd.jupyter.widget-view+json": {
       "model_id": "4978efb35c3e448784bbc282461173ae",
       "version_major": 2,
       "version_minor": 0
      },
      "text/plain": [
       "Updating Σx-1:   0%|          | 0/1000 [00:00<?, ?it/s]"
      ]
     },
     "metadata": {},
     "output_type": "display_data"
    },
    {
     "name": "stdout",
     "output_type": "stream",
     "text": [
      "[2023/05/25 00:09:52]\t Updating metagenes\n"
     ]
    },
    {
     "data": {
      "application/vnd.jupyter.widget-view+json": {
       "model_id": "a8ce920e12ee43929182400c6303c47a",
       "version_major": 2,
       "version_minor": 0
      },
      "text/plain": [
       "Updating M:   0%|          | 0/10000 [00:00<?, ?it/s]"
      ]
     },
     "metadata": {},
     "output_type": "display_data"
    },
    {
     "name": "stdout",
     "output_type": "stream",
     "text": [
      "[2023/05/25 00:09:52]\t Updating sigma_yx\n",
      "[2023/05/25 00:09:52]\t Updating latent states\n"
     ]
    },
    {
     "data": {
      "application/vnd.jupyter.widget-view+json": {
       "model_id": "330b069d08d849ddaaa4611d2fa5d2e9",
       "version_major": 2,
       "version_minor": 0
      },
      "text/plain": [
       "Updating weight w/ neighbors:   0%|          | 0/1000 [00:00<?, ?it/s]"
      ]
     },
     "metadata": {},
     "output_type": "display_data"
    },
    {
     "data": {
      "application/vnd.jupyter.widget-view+json": {
       "model_id": "c435c1ecbaeb4887b56c33012f637736",
       "version_major": 2,
       "version_minor": 0
      },
      "text/plain": [
       "Updating weight w/ neighbors:   0%|          | 0/1000 [00:00<?, ?it/s]"
      ]
     },
     "metadata": {},
     "output_type": "display_data"
    },
    {
     "name": "stdout",
     "output_type": "stream",
     "text": [
      "----- Iteration 42 -----\n",
      "[2023/05/25 00:09:55]\t Updating spatial affinities\n"
     ]
    },
    {
     "data": {
      "application/vnd.jupyter.widget-view+json": {
       "model_id": "11aac3b3cef3474c87bc51a52a592c22",
       "version_major": 2,
       "version_minor": 0
      },
      "text/plain": [
       "Updating Σx-1:   0%|          | 0/1000 [00:00<?, ?it/s]"
      ]
     },
     "metadata": {},
     "output_type": "display_data"
    },
    {
     "name": "stdout",
     "output_type": "stream",
     "text": [
      "[2023/05/25 00:09:57]\t Updating metagenes\n"
     ]
    },
    {
     "data": {
      "application/vnd.jupyter.widget-view+json": {
       "model_id": "94d7e85db4794c8faa8e8c4450ca11ba",
       "version_major": 2,
       "version_minor": 0
      },
      "text/plain": [
       "Updating M:   0%|          | 0/10000 [00:00<?, ?it/s]"
      ]
     },
     "metadata": {},
     "output_type": "display_data"
    },
    {
     "name": "stdout",
     "output_type": "stream",
     "text": [
      "[2023/05/25 00:09:58]\t Updating sigma_yx\n",
      "[2023/05/25 00:09:58]\t Updating latent states\n"
     ]
    },
    {
     "data": {
      "application/vnd.jupyter.widget-view+json": {
       "model_id": "8d5df3dd15a24b2ab8968924ad981c75",
       "version_major": 2,
       "version_minor": 0
      },
      "text/plain": [
       "Updating weight w/ neighbors:   0%|          | 0/1000 [00:00<?, ?it/s]"
      ]
     },
     "metadata": {},
     "output_type": "display_data"
    },
    {
     "data": {
      "application/vnd.jupyter.widget-view+json": {
       "model_id": "09c7ef036ca6460dabe63c907d51d827",
       "version_major": 2,
       "version_minor": 0
      },
      "text/plain": [
       "Updating weight w/ neighbors:   0%|          | 0/1000 [00:00<?, ?it/s]"
      ]
     },
     "metadata": {},
     "output_type": "display_data"
    },
    {
     "name": "stdout",
     "output_type": "stream",
     "text": [
      "----- Iteration 43 -----\n",
      "[2023/05/25 00:10:03]\t Updating spatial affinities\n"
     ]
    },
    {
     "data": {
      "application/vnd.jupyter.widget-view+json": {
       "model_id": "7c4b77c2c5de46d4bdfd9dfb55cd802f",
       "version_major": 2,
       "version_minor": 0
      },
      "text/plain": [
       "Updating Σx-1:   0%|          | 0/1000 [00:00<?, ?it/s]"
      ]
     },
     "metadata": {},
     "output_type": "display_data"
    },
    {
     "name": "stdout",
     "output_type": "stream",
     "text": [
      "[2023/05/25 00:10:05]\t Updating metagenes\n"
     ]
    },
    {
     "data": {
      "application/vnd.jupyter.widget-view+json": {
       "model_id": "03d5bef5122d4f4e95e90c6aedf3b4a1",
       "version_major": 2,
       "version_minor": 0
      },
      "text/plain": [
       "Updating M:   0%|          | 0/10000 [00:00<?, ?it/s]"
      ]
     },
     "metadata": {},
     "output_type": "display_data"
    },
    {
     "name": "stdout",
     "output_type": "stream",
     "text": [
      "[2023/05/25 00:10:06]\t Updating sigma_yx\n",
      "[2023/05/25 00:10:06]\t Updating latent states\n"
     ]
    },
    {
     "data": {
      "application/vnd.jupyter.widget-view+json": {
       "model_id": "6419e5fb7a764b90aac36d379286b2fd",
       "version_major": 2,
       "version_minor": 0
      },
      "text/plain": [
       "Updating weight w/ neighbors:   0%|          | 0/1000 [00:00<?, ?it/s]"
      ]
     },
     "metadata": {},
     "output_type": "display_data"
    },
    {
     "data": {
      "application/vnd.jupyter.widget-view+json": {
       "model_id": "e6e880ec1c424433ab53a1ad7b34297b",
       "version_major": 2,
       "version_minor": 0
      },
      "text/plain": [
       "Updating weight w/ neighbors:   0%|          | 0/1000 [00:00<?, ?it/s]"
      ]
     },
     "metadata": {},
     "output_type": "display_data"
    },
    {
     "name": "stdout",
     "output_type": "stream",
     "text": [
      "----- Iteration 44 -----\n",
      "[2023/05/25 00:10:08]\t Updating spatial affinities\n"
     ]
    },
    {
     "data": {
      "application/vnd.jupyter.widget-view+json": {
       "model_id": "07be75470f954a7aadbd6c1953f76f63",
       "version_major": 2,
       "version_minor": 0
      },
      "text/plain": [
       "Updating Σx-1:   0%|          | 0/1000 [00:00<?, ?it/s]"
      ]
     },
     "metadata": {},
     "output_type": "display_data"
    },
    {
     "name": "stdout",
     "output_type": "stream",
     "text": [
      "[2023/05/25 00:10:11]\t Updating metagenes\n"
     ]
    },
    {
     "data": {
      "application/vnd.jupyter.widget-view+json": {
       "model_id": "2002324759d74cf3938c30bc82145723",
       "version_major": 2,
       "version_minor": 0
      },
      "text/plain": [
       "Updating M:   0%|          | 0/10000 [00:00<?, ?it/s]"
      ]
     },
     "metadata": {},
     "output_type": "display_data"
    },
    {
     "name": "stdout",
     "output_type": "stream",
     "text": [
      "[2023/05/25 00:10:11]\t Updating sigma_yx\n",
      "[2023/05/25 00:10:12]\t Updating latent states\n"
     ]
    },
    {
     "data": {
      "application/vnd.jupyter.widget-view+json": {
       "model_id": "2727c104d4524d9eb51064b6d325477a",
       "version_major": 2,
       "version_minor": 0
      },
      "text/plain": [
       "Updating weight w/ neighbors:   0%|          | 0/1000 [00:00<?, ?it/s]"
      ]
     },
     "metadata": {},
     "output_type": "display_data"
    },
    {
     "data": {
      "application/vnd.jupyter.widget-view+json": {
       "model_id": "441f86e1b87944da94e70a48ab7b9add",
       "version_major": 2,
       "version_minor": 0
      },
      "text/plain": [
       "Updating weight w/ neighbors:   0%|          | 0/1000 [00:00<?, ?it/s]"
      ]
     },
     "metadata": {},
     "output_type": "display_data"
    },
    {
     "name": "stdout",
     "output_type": "stream",
     "text": [
      "----- Iteration 45 -----\n",
      "[2023/05/25 00:10:14]\t Updating spatial affinities\n"
     ]
    },
    {
     "data": {
      "application/vnd.jupyter.widget-view+json": {
       "model_id": "37261d47b26d461dae25cded4da1cc0a",
       "version_major": 2,
       "version_minor": 0
      },
      "text/plain": [
       "Updating Σx-1:   0%|          | 0/1000 [00:00<?, ?it/s]"
      ]
     },
     "metadata": {},
     "output_type": "display_data"
    },
    {
     "name": "stdout",
     "output_type": "stream",
     "text": [
      "[2023/05/25 00:10:16]\t Updating metagenes\n"
     ]
    },
    {
     "data": {
      "application/vnd.jupyter.widget-view+json": {
       "model_id": "7af83508f7424e658b19a47fde49571f",
       "version_major": 2,
       "version_minor": 0
      },
      "text/plain": [
       "Updating M:   0%|          | 0/10000 [00:00<?, ?it/s]"
      ]
     },
     "metadata": {},
     "output_type": "display_data"
    },
    {
     "name": "stdout",
     "output_type": "stream",
     "text": [
      "[2023/05/25 00:10:16]\t Updating sigma_yx\n",
      "[2023/05/25 00:10:16]\t Updating latent states\n"
     ]
    },
    {
     "data": {
      "application/vnd.jupyter.widget-view+json": {
       "model_id": "31d86209fa95403c822f61720fccab08",
       "version_major": 2,
       "version_minor": 0
      },
      "text/plain": [
       "Updating weight w/ neighbors:   0%|          | 0/1000 [00:00<?, ?it/s]"
      ]
     },
     "metadata": {},
     "output_type": "display_data"
    },
    {
     "data": {
      "application/vnd.jupyter.widget-view+json": {
       "model_id": "b058ffc3ec91491ba89c627c57d4c260",
       "version_major": 2,
       "version_minor": 0
      },
      "text/plain": [
       "Updating weight w/ neighbors:   0%|          | 0/1000 [00:00<?, ?it/s]"
      ]
     },
     "metadata": {},
     "output_type": "display_data"
    },
    {
     "name": "stdout",
     "output_type": "stream",
     "text": [
      "----- Iteration 46 -----\n",
      "[2023/05/25 00:10:19]\t Updating spatial affinities\n"
     ]
    },
    {
     "data": {
      "application/vnd.jupyter.widget-view+json": {
       "model_id": "6f77eb0ed5ea4c61912d261899a6b4ae",
       "version_major": 2,
       "version_minor": 0
      },
      "text/plain": [
       "Updating Σx-1:   0%|          | 0/1000 [00:00<?, ?it/s]"
      ]
     },
     "metadata": {},
     "output_type": "display_data"
    },
    {
     "name": "stdout",
     "output_type": "stream",
     "text": [
      "[2023/05/25 00:10:21]\t Updating metagenes\n"
     ]
    },
    {
     "data": {
      "application/vnd.jupyter.widget-view+json": {
       "model_id": "8ec97a50e04849acb5ea072947d28d45",
       "version_major": 2,
       "version_minor": 0
      },
      "text/plain": [
       "Updating M:   0%|          | 0/10000 [00:00<?, ?it/s]"
      ]
     },
     "metadata": {},
     "output_type": "display_data"
    },
    {
     "name": "stdout",
     "output_type": "stream",
     "text": [
      "[2023/05/25 00:10:21]\t Updating sigma_yx\n",
      "[2023/05/25 00:10:21]\t Updating latent states\n"
     ]
    },
    {
     "data": {
      "application/vnd.jupyter.widget-view+json": {
       "model_id": "d3c7db64711143f6af68ebd5c5fc9113",
       "version_major": 2,
       "version_minor": 0
      },
      "text/plain": [
       "Updating weight w/ neighbors:   0%|          | 0/1000 [00:00<?, ?it/s]"
      ]
     },
     "metadata": {},
     "output_type": "display_data"
    },
    {
     "data": {
      "application/vnd.jupyter.widget-view+json": {
       "model_id": "9856ec5c843d4c77bea9f6f579095ab7",
       "version_major": 2,
       "version_minor": 0
      },
      "text/plain": [
       "Updating weight w/ neighbors:   0%|          | 0/1000 [00:00<?, ?it/s]"
      ]
     },
     "metadata": {},
     "output_type": "display_data"
    },
    {
     "name": "stdout",
     "output_type": "stream",
     "text": [
      "----- Iteration 47 -----\n",
      "[2023/05/25 00:10:24]\t Updating spatial affinities\n"
     ]
    },
    {
     "data": {
      "application/vnd.jupyter.widget-view+json": {
       "model_id": "7dcd7bef185f41cf819571852ac27a54",
       "version_major": 2,
       "version_minor": 0
      },
      "text/plain": [
       "Updating Σx-1:   0%|          | 0/1000 [00:00<?, ?it/s]"
      ]
     },
     "metadata": {},
     "output_type": "display_data"
    },
    {
     "name": "stdout",
     "output_type": "stream",
     "text": [
      "[2023/05/25 00:10:25]\t Updating metagenes\n"
     ]
    },
    {
     "data": {
      "application/vnd.jupyter.widget-view+json": {
       "model_id": "6adb46270e824c5d88b903cff7aa86b2",
       "version_major": 2,
       "version_minor": 0
      },
      "text/plain": [
       "Updating M:   0%|          | 0/10000 [00:00<?, ?it/s]"
      ]
     },
     "metadata": {},
     "output_type": "display_data"
    },
    {
     "name": "stdout",
     "output_type": "stream",
     "text": [
      "[2023/05/25 00:10:25]\t Updating sigma_yx\n",
      "[2023/05/25 00:10:25]\t Updating latent states\n"
     ]
    },
    {
     "data": {
      "application/vnd.jupyter.widget-view+json": {
       "model_id": "2c0b10ecf82348e4bab46c592eba57fa",
       "version_major": 2,
       "version_minor": 0
      },
      "text/plain": [
       "Updating weight w/ neighbors:   0%|          | 0/1000 [00:00<?, ?it/s]"
      ]
     },
     "metadata": {},
     "output_type": "display_data"
    },
    {
     "data": {
      "application/vnd.jupyter.widget-view+json": {
       "model_id": "ee3de700bbf642e19135b4dc123cd67d",
       "version_major": 2,
       "version_minor": 0
      },
      "text/plain": [
       "Updating weight w/ neighbors:   0%|          | 0/1000 [00:00<?, ?it/s]"
      ]
     },
     "metadata": {},
     "output_type": "display_data"
    },
    {
     "name": "stdout",
     "output_type": "stream",
     "text": [
      "----- Iteration 48 -----\n",
      "[2023/05/25 00:10:28]\t Updating spatial affinities\n"
     ]
    },
    {
     "data": {
      "application/vnd.jupyter.widget-view+json": {
       "model_id": "0fb73dead50343ada91ecc8bcbe7f858",
       "version_major": 2,
       "version_minor": 0
      },
      "text/plain": [
       "Updating Σx-1:   0%|          | 0/1000 [00:00<?, ?it/s]"
      ]
     },
     "metadata": {},
     "output_type": "display_data"
    },
    {
     "name": "stdout",
     "output_type": "stream",
     "text": [
      "[2023/05/25 00:10:29]\t Updating metagenes\n"
     ]
    },
    {
     "data": {
      "application/vnd.jupyter.widget-view+json": {
       "model_id": "c106b31cda2145f3a38b85bd32d9c414",
       "version_major": 2,
       "version_minor": 0
      },
      "text/plain": [
       "Updating M:   0%|          | 0/10000 [00:00<?, ?it/s]"
      ]
     },
     "metadata": {},
     "output_type": "display_data"
    },
    {
     "name": "stdout",
     "output_type": "stream",
     "text": [
      "[2023/05/25 00:10:29]\t Updating sigma_yx\n",
      "[2023/05/25 00:10:29]\t Updating latent states\n"
     ]
    },
    {
     "data": {
      "application/vnd.jupyter.widget-view+json": {
       "model_id": "242d5a5aca2a4af2a8b17af6604372ac",
       "version_major": 2,
       "version_minor": 0
      },
      "text/plain": [
       "Updating weight w/ neighbors:   0%|          | 0/1000 [00:00<?, ?it/s]"
      ]
     },
     "metadata": {},
     "output_type": "display_data"
    },
    {
     "data": {
      "application/vnd.jupyter.widget-view+json": {
       "model_id": "a34c378363754cf3a0bc8cb0428bb243",
       "version_major": 2,
       "version_minor": 0
      },
      "text/plain": [
       "Updating weight w/ neighbors:   0%|          | 0/1000 [00:00<?, ?it/s]"
      ]
     },
     "metadata": {},
     "output_type": "display_data"
    },
    {
     "name": "stdout",
     "output_type": "stream",
     "text": [
      "----- Iteration 49 -----\n",
      "[2023/05/25 00:10:32]\t Updating spatial affinities\n"
     ]
    },
    {
     "data": {
      "application/vnd.jupyter.widget-view+json": {
       "model_id": "57fd677e112741929a62ecb1bac22000",
       "version_major": 2,
       "version_minor": 0
      },
      "text/plain": [
       "Updating Σx-1:   0%|          | 0/1000 [00:00<?, ?it/s]"
      ]
     },
     "metadata": {},
     "output_type": "display_data"
    },
    {
     "name": "stdout",
     "output_type": "stream",
     "text": [
      "[2023/05/25 00:10:33]\t Updating metagenes\n"
     ]
    },
    {
     "data": {
      "application/vnd.jupyter.widget-view+json": {
       "model_id": "627c548cf5e44793a133a7140b328fee",
       "version_major": 2,
       "version_minor": 0
      },
      "text/plain": [
       "Updating M:   0%|          | 0/10000 [00:00<?, ?it/s]"
      ]
     },
     "metadata": {},
     "output_type": "display_data"
    },
    {
     "name": "stdout",
     "output_type": "stream",
     "text": [
      "[2023/05/25 00:10:33]\t Updating sigma_yx\n",
      "[2023/05/25 00:10:34]\t Updating latent states\n"
     ]
    },
    {
     "data": {
      "application/vnd.jupyter.widget-view+json": {
       "model_id": "c2e8f459ad3f4ec9ace54dd980ff3f34",
       "version_major": 2,
       "version_minor": 0
      },
      "text/plain": [
       "Updating weight w/ neighbors:   0%|          | 0/1000 [00:00<?, ?it/s]"
      ]
     },
     "metadata": {},
     "output_type": "display_data"
    },
    {
     "data": {
      "application/vnd.jupyter.widget-view+json": {
       "model_id": "a3e647bb395d4b268dbc7cde78f90e15",
       "version_major": 2,
       "version_minor": 0
      },
      "text/plain": [
       "Updating weight w/ neighbors:   0%|          | 0/1000 [00:00<?, ?it/s]"
      ]
     },
     "metadata": {},
     "output_type": "display_data"
    }
   ],
   "source": [
    "for iteration in range(50):\n",
    "    print(f\"----- Iteration {iteration} -----\")\n",
    "    hierarchical_example.estimate_parameters()\n",
    "    hierarchical_example.estimate_weights()"
   ]
  },
  {
   "cell_type": "code",
   "execution_count": 21,
   "id": "a5469fd6",
   "metadata": {},
   "outputs": [
    {
     "data": {
      "application/vnd.jupyter.widget-view+json": {
       "model_id": "7ce03549046f4d13a42867f060476fc0",
       "version_major": 2,
       "version_minor": 0
      },
      "text/plain": [
       "  0%|          | 0/5000 [00:00<?, ?it/s]"
      ]
     },
     "metadata": {},
     "output_type": "display_data"
    },
    {
     "data": {
      "application/vnd.jupyter.widget-view+json": {
       "model_id": "f7a0907a371241c286c33ab6f666f5e1",
       "version_major": 2,
       "version_minor": 0
      },
      "text/plain": [
       "  0%|          | 0/5000 [00:00<?, ?it/s]"
      ]
     },
     "metadata": {},
     "output_type": "display_data"
    },
    {
     "data": {
      "application/vnd.jupyter.widget-view+json": {
       "model_id": "133c5fba24a64f8cb30680cf2d0f9fe5",
       "version_major": 2,
       "version_minor": 0
      },
      "text/plain": [
       "Updating Σx-1:   0%|          | 0/1000 [00:00<?, ?it/s]"
      ]
     },
     "metadata": {},
     "output_type": "display_data"
    }
   ],
   "source": [
    "hierarchical_example.superresolve(n_epochs=5000, tol=1e-6)"
   ]
  },
  {
   "cell_type": "markdown",
   "id": "c48b82ca",
   "metadata": {},
   "source": [
    "### Save results to disk"
   ]
  },
  {
   "cell_type": "code",
   "execution_count": 39,
   "id": "aebccfc2",
   "metadata": {},
   "outputs": [],
   "source": [
    "hierarchical_example.save_results(data_directory / f\"hierarchical_resuts.h5ad\")"
   ]
  },
  {
   "cell_type": "markdown",
   "id": "743192a2",
   "metadata": {},
   "source": [
    "### Load a pretrained model"
   ]
  },
  {
   "cell_type": "code",
   "execution_count": 40,
   "id": "86e28e02",
   "metadata": {},
   "outputs": [],
   "source": [
    "from popari.model import load_trained_model"
   ]
  },
  {
   "cell_type": "code",
   "execution_count": 41,
   "id": "79f77bfe",
   "metadata": {},
   "outputs": [
    {
     "name": "stdout",
     "output_type": "stream",
     "text": [
      "[2023/05/25 07:02:57]\t Initializing MetageneState\n",
      "[2023/05/25 07:02:57]\t Initializing SpatialAffinityState\n",
      "[2023/05/25 07:02:57]\t Initializing EmbeddingOptimizer\n",
      "[2023/05/25 07:02:57]\t Initializing EmbeddingState\n",
      "[2023/05/25 07:02:59]\t Initializing MetageneState\n",
      "[2023/05/25 07:02:59]\t Initializing SpatialAffinityState\n",
      "[2023/05/25 07:02:59]\t Initializing EmbeddingOptimizer\n",
      "[2023/05/25 07:02:59]\t Initializing EmbeddingState\n",
      "[2023/05/25 07:03:00]\t Initializing MetageneState\n",
      "[2023/05/25 07:03:00]\t Initializing SpatialAffinityState\n",
      "[2023/05/25 07:03:00]\t Initializing EmbeddingOptimizer\n",
      "[2023/05/25 07:03:00]\t Initializing EmbeddingState\n"
     ]
    }
   ],
   "source": [
    "reloaded_model = load_trained_model(data_directory / f\"hierarchical_resuts.h5ad\")"
   ]
  }
 ],
 "metadata": {
  "kernelspec": {
   "display_name": "Python 3 (ipykernel)",
   "language": "python",
   "name": "python3"
  },
  "language_info": {
   "codemirror_mode": {
    "name": "ipython",
    "version": 3
   },
   "file_extension": ".py",
   "mimetype": "text/x-python",
   "name": "python",
   "nbconvert_exporter": "python",
   "pygments_lexer": "ipython3",
   "version": "3.8.13"
  }
 },
 "nbformat": 4,
 "nbformat_minor": 5
}
